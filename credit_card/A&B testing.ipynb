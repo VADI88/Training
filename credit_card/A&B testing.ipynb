{
 "cells": [
  {
   "cell_type": "code",
   "execution_count": 1,
   "metadata": {
    "collapsed": true
   },
   "outputs": [],
   "source": [
    "import pandas as pd \n",
    "import matplotlib.pyplot as plt\n",
    "import seaborn as sns\n",
    "%matplotlib inline\n",
    "from datetime import datetime\n",
    "import numpy as np\n",
    "from __future__ import division\n"
   ]
  },
  {
   "cell_type": "code",
   "execution_count": 2,
   "metadata": {
    "collapsed": true
   },
   "outputs": [],
   "source": [
    "user_tab=pd.read_csv('user_table.csv')"
   ]
  },
  {
   "cell_type": "code",
   "execution_count": 3,
   "metadata": {
    "collapsed": false
   },
   "outputs": [],
   "source": [
    "def missingdate(data):\n",
    "    if data is None or data is np.nan :\n",
    "         return 0\n",
    "    else:\n",
    "        return data"
   ]
  },
  {
   "cell_type": "code",
   "execution_count": 4,
   "metadata": {
    "collapsed": true
   },
   "outputs": [],
   "source": [
    "events=pd.read_csv('test_table.csv')"
   ]
  },
  {
   "cell_type": "code",
   "execution_count": 5,
   "metadata": {
    "collapsed": true
   },
   "outputs": [],
   "source": [
    "mode_of_channel= events['ads_channel'].mode()"
   ]
  },
  {
   "cell_type": "code",
   "execution_count": 6,
   "metadata": {
    "collapsed": true
   },
   "outputs": [],
   "source": [
    "events['ads_channel']=events['ads_channel'].map(lambda x : missingdate(x))"
   ]
  },
  {
   "cell_type": "code",
   "execution_count": 7,
   "metadata": {
    "collapsed": true
   },
   "outputs": [],
   "source": [
    "events_union= pd.merge(events,user_tab,on='user_id')"
   ]
  },
  {
   "cell_type": "code",
   "execution_count": 8,
   "metadata": {
    "collapsed": true
   },
   "outputs": [],
   "source": [
    "from scipy.stats import chi2_contingency\n"
   ]
  },
  {
   "cell_type": "markdown",
   "metadata": {},
   "source": [
    "## Question 1 \n",
    "\n",
    "Confirm that the test is actually negative. That is, it appears that the old version of the site with just one translation across Spain and LatAm performs better "
   ]
  },
  {
   "cell_type": "markdown",
   "metadata": {},
   "source": [
    "## Consider Spain and LatAM"
   ]
  },
  {
   "cell_type": "code",
   "execution_count": 9,
   "metadata": {
    "collapsed": true
   },
   "outputs": [],
   "source": [
    "def conversion(data):\n",
    "    x = data['Converted']\n",
    "    y = data['Not-Converted']\n",
    "    value = (x/(x+y)*100)  \n",
    "    return \"{0:.2f}%\".format(value)\n",
    "    "
   ]
  },
  {
   "cell_type": "code",
   "execution_count": 10,
   "metadata": {
    "collapsed": true
   },
   "outputs": [],
   "source": [
    "results = pd.crosstab(events_union['test'],events_union['conversion'])"
   ]
  },
  {
   "cell_type": "code",
   "execution_count": 11,
   "metadata": {
    "collapsed": false
   },
   "outputs": [],
   "source": [
    "results.columns=['Not-Converted','Converted']\n",
    "results.index=['Control','Test']\n",
    "results['Conversion']=results[['Converted','Not-Converted']].apply(conversion,axis=1)"
   ]
  },
  {
   "cell_type": "code",
   "execution_count": 12,
   "metadata": {
    "collapsed": false
   },
   "outputs": [
    {
     "data": {
      "text/html": [
       "<div>\n",
       "<table border=\"1\" class=\"dataframe\">\n",
       "  <thead>\n",
       "    <tr style=\"text-align: right;\">\n",
       "      <th></th>\n",
       "      <th>Not-Converted</th>\n",
       "      <th>Converted</th>\n",
       "      <th>Conversion</th>\n",
       "    </tr>\n",
       "  </thead>\n",
       "  <tbody>\n",
       "    <tr>\n",
       "      <th>Control</th>\n",
       "      <td>224016</td>\n",
       "      <td>13077</td>\n",
       "      <td>5.52%</td>\n",
       "    </tr>\n",
       "    <tr>\n",
       "      <th>Test</th>\n",
       "      <td>206407</td>\n",
       "      <td>9367</td>\n",
       "      <td>4.34%</td>\n",
       "    </tr>\n",
       "  </tbody>\n",
       "</table>\n",
       "</div>"
      ],
      "text/plain": [
       "         Not-Converted  Converted Conversion\n",
       "Control         224016      13077      5.52%\n",
       "Test            206407       9367      4.34%"
      ]
     },
     "execution_count": 12,
     "metadata": {},
     "output_type": "execute_result"
    }
   ],
   "source": [
    "results"
   ]
  },
  {
   "cell_type": "code",
   "execution_count": 13,
   "metadata": {
    "collapsed": true
   },
   "outputs": [],
   "source": [
    "result = chi2_contingency(results.values[:,:2])"
   ]
  },
  {
   "cell_type": "code",
   "execution_count": 14,
   "metadata": {
    "collapsed": false
   },
   "outputs": [
    {
     "name": "stdout",
     "output_type": "stream",
     "text": [
      "chisq = 330.54287843, p = 7.32062231754e-74\n",
      "\n",
      "\n",
      "Can reject Null hypothesis\n"
     ]
    }
   ],
   "source": [
    "chisq, p = result[:2]\n",
    "print 'chisq = {}, p = {}'.format(chisq, p)\n",
    "\n",
    "print '\\n'\n",
    "\n",
    "if p>0.05:\n",
    "    print 'Cannot reject Null hypothesis'\n",
    "else:\n",
    "    print 'Can reject Null hypothesis'"
   ]
  },
  {
   "cell_type": "markdown",
   "metadata": {},
   "source": [
    "## Lift "
   ]
  },
  {
   "cell_type": "code",
   "execution_count": 15,
   "metadata": {
    "collapsed": true
   },
   "outputs": [],
   "source": [
    "def lift(control,test):\n",
    "    x = float(control.replace('%',''))\n",
    "    y=float(test.replace('%',''))\n",
    "    value = ((x-y)/y)*100\n",
    "    \n",
    "    return \"{0:.2f}%\".format(value) \n"
   ]
  },
  {
   "cell_type": "code",
   "execution_count": 16,
   "metadata": {
    "collapsed": false
   },
   "outputs": [
    {
     "name": "stdout",
     "output_type": "stream",
     "text": [
      "27.19%\n"
     ]
    }
   ],
   "source": [
    "lift = lift(results['Conversion']['Control'],results['Conversion']['Test'])\n",
    "print lift"
   ]
  },
  {
   "cell_type": "markdown",
   "metadata": {},
   "source": [
    "## Consider only LatAM"
   ]
  },
  {
   "cell_type": "code",
   "execution_count": 17,
   "metadata": {
    "collapsed": true
   },
   "outputs": [],
   "source": [
    "data=events_union[events_union['country']!='Spain']"
   ]
  },
  {
   "cell_type": "code",
   "execution_count": 18,
   "metadata": {
    "collapsed": false
   },
   "outputs": [],
   "source": [
    "results1 = pd.crosstab(data['test'],data['conversion'])"
   ]
  },
  {
   "cell_type": "code",
   "execution_count": 19,
   "metadata": {
    "collapsed": false
   },
   "outputs": [
    {
     "data": {
      "text/html": [
       "<div>\n",
       "<table border=\"1\" class=\"dataframe\">\n",
       "  <thead>\n",
       "    <tr style=\"text-align: right;\">\n",
       "      <th>conversion</th>\n",
       "      <th>0</th>\n",
       "      <th>1</th>\n",
       "    </tr>\n",
       "    <tr>\n",
       "      <th>test</th>\n",
       "      <th></th>\n",
       "      <th></th>\n",
       "    </tr>\n",
       "  </thead>\n",
       "  <tbody>\n",
       "    <tr>\n",
       "      <th>0</th>\n",
       "      <td>176362</td>\n",
       "      <td>8949</td>\n",
       "    </tr>\n",
       "    <tr>\n",
       "      <th>1</th>\n",
       "      <td>206407</td>\n",
       "      <td>9367</td>\n",
       "    </tr>\n",
       "  </tbody>\n",
       "</table>\n",
       "</div>"
      ],
      "text/plain": [
       "conversion       0     1\n",
       "test                    \n",
       "0           176362  8949\n",
       "1           206407  9367"
      ]
     },
     "execution_count": 19,
     "metadata": {},
     "output_type": "execute_result"
    }
   ],
   "source": [
    "results1 =pd.crosstab(data['test'],data['conversion'])\n",
    "results1"
   ]
  },
  {
   "cell_type": "code",
   "execution_count": 20,
   "metadata": {
    "collapsed": false
   },
   "outputs": [],
   "source": [
    "results1.columns=['Not-Converted','Converted']\n",
    "results1.index=['Control','Test']\n",
    "results1['Conversion']=results1[['Converted','Not-Converted']].apply(conversion,axis=1)"
   ]
  },
  {
   "cell_type": "code",
   "execution_count": 21,
   "metadata": {
    "collapsed": false
   },
   "outputs": [
    {
     "data": {
      "text/html": [
       "<div>\n",
       "<table border=\"1\" class=\"dataframe\">\n",
       "  <thead>\n",
       "    <tr style=\"text-align: right;\">\n",
       "      <th></th>\n",
       "      <th>Not-Converted</th>\n",
       "      <th>Converted</th>\n",
       "      <th>Conversion</th>\n",
       "    </tr>\n",
       "  </thead>\n",
       "  <tbody>\n",
       "    <tr>\n",
       "      <th>Control</th>\n",
       "      <td>176362</td>\n",
       "      <td>8949</td>\n",
       "      <td>4.83%</td>\n",
       "    </tr>\n",
       "    <tr>\n",
       "      <th>Test</th>\n",
       "      <td>206407</td>\n",
       "      <td>9367</td>\n",
       "      <td>4.34%</td>\n",
       "    </tr>\n",
       "  </tbody>\n",
       "</table>\n",
       "</div>"
      ],
      "text/plain": [
       "         Not-Converted  Converted Conversion\n",
       "Control         176362       8949      4.83%\n",
       "Test            206407       9367      4.34%"
      ]
     },
     "execution_count": 21,
     "metadata": {},
     "output_type": "execute_result"
    }
   ],
   "source": [
    "results1"
   ]
  },
  {
   "cell_type": "code",
   "execution_count": 22,
   "metadata": {
    "collapsed": false
   },
   "outputs": [],
   "source": [
    "from __future__ import division"
   ]
  },
  {
   "cell_type": "code",
   "execution_count": 23,
   "metadata": {
    "collapsed": true
   },
   "outputs": [],
   "source": [
    "result_1 = chi2_contingency(results1.values[:,:2])"
   ]
  },
  {
   "cell_type": "code",
   "execution_count": 24,
   "metadata": {
    "collapsed": false
   },
   "outputs": [
    {
     "name": "stdout",
     "output_type": "stream",
     "text": [
      "chisq = 330.54287843, p = 7.32062231754e-74\n",
      "\n",
      "\n",
      "Can reject Null hypothesis\n"
     ]
    }
   ],
   "source": [
    "chisq_1, p_1 = result[:2]\n",
    "print 'chisq = {}, p = {}'.format(chisq_1, p_1)\n",
    "\n",
    "print '\\n'\n",
    "\n",
    "if p_1>0.05:\n",
    "    print 'Cannot reject Null hypothesis'\n",
    "else:\n",
    "    print 'Can reject Null hypothesis'"
   ]
  },
  {
   "cell_type": "code",
   "execution_count": 25,
   "metadata": {
    "collapsed": true
   },
   "outputs": [],
   "source": [
    "def lift(control,test):\n",
    "    x = float(control.replace('%',''))\n",
    "    y=float(test.replace('%',''))\n",
    "    value = ((x-y)/y)*100\n",
    "    \n",
    "    return \"{0:.2f}%\".format(value) "
   ]
  },
  {
   "cell_type": "markdown",
   "metadata": {},
   "source": [
    "## Lift"
   ]
  },
  {
   "cell_type": "code",
   "execution_count": 26,
   "metadata": {
    "collapsed": false
   },
   "outputs": [
    {
     "name": "stdout",
     "output_type": "stream",
     "text": [
      "11.29%\n"
     ]
    }
   ],
   "source": [
    "lift_1 = lift(results1['Conversion']['Control'],results1['Conversion']['Test'])\n",
    "print lift_1"
   ]
  },
  {
   "cell_type": "markdown",
   "metadata": {},
   "source": [
    "## Question 3 \n"
   ]
  },
  {
   "cell_type": "code",
   "execution_count": 27,
   "metadata": {
    "collapsed": true
   },
   "outputs": [],
   "source": [
    "def browser_language(data):\n",
    "    if data=='ES':\n",
    "        return 1\n",
    "    elif data=='EN':\n",
    "        return 2\n",
    "    else:\n",
    "        return 0"
   ]
  },
  {
   "cell_type": "code",
   "execution_count": 28,
   "metadata": {
    "collapsed": true
   },
   "outputs": [],
   "source": [
    "def check(data):\n",
    "    test = data['test']\n",
    "    conversion= data['conversion']\n",
    "    if test == conversion:\n",
    "        return 0 \n",
    "    else:\n",
    "        return 1"
   ]
  },
  {
   "cell_type": "code",
   "execution_count": 29,
   "metadata": {
    "collapsed": false
   },
   "outputs": [],
   "source": [
    "def device_check(data):\n",
    "    if data=='Web':\n",
    "        return 1\n",
    "    elif data=='Mobile':\n",
    "        return 2\n",
    "    else:\n",
    "        return None\n"
   ]
  },
  {
   "cell_type": "code",
   "execution_count": 30,
   "metadata": {
    "collapsed": true
   },
   "outputs": [],
   "source": [
    "def source_check(data):\n",
    "    if data=='Direct':\n",
    "        return 1\n",
    "    elif data=='Ads':\n",
    "        return 2\n",
    "    elif data=='SEO':\n",
    "        return 3\n",
    "    else:\n",
    "        return None"
   ]
  },
  {
   "cell_type": "code",
   "execution_count": 31,
   "metadata": {
    "collapsed": true
   },
   "outputs": [],
   "source": [
    "def ad_check(data):\n",
    "    if data=='Google':\n",
    "        return 1\n",
    "    elif data=='Bing':\n",
    "        return 2\n",
    "    elif data=='Yahoo':\n",
    "        return 3\n",
    "    elif data=='Facebook':\n",
    "        return 4\n",
    "    elif data=='Other':\n",
    "        return 5\n",
    "    else:\n",
    "        return data"
   ]
  },
  {
   "cell_type": "code",
   "execution_count": 32,
   "metadata": {
    "collapsed": true
   },
   "outputs": [],
   "source": [
    "def browser_check(data):\n",
    "    if data=='IE':\n",
    "        return 1\n",
    "    elif data=='Chrome':\n",
    "        return 2\n",
    "    elif data=='FireFox':\n",
    "        return 3\n",
    "    elif data=='Android_App':\n",
    "        return 4\n",
    "    elif data=='Iphone_App':\n",
    "        return 5\n",
    "    elif data=='Safari':\n",
    "        return 6\n",
    "    \n",
    "    \n",
    "    elif data=='Opera':\n",
    "        return 7\n",
    "    else:\n",
    "        return None"
   ]
  },
  {
   "cell_type": "code",
   "execution_count": 33,
   "metadata": {
    "collapsed": true
   },
   "outputs": [],
   "source": [
    "def gender(data):\n",
    "    if data=='M':\n",
    "        return 1\n",
    "    elif data=='F':\n",
    "        return 2 "
   ]
  },
  {
   "cell_type": "code",
   "execution_count": 34,
   "metadata": {
    "collapsed": true
   },
   "outputs": [],
   "source": [
    "def weekDay(date):\n",
    "    date=datetime.strptime(date,\"%Y-%m-%d\")\n",
    "    year=date.year\n",
    "    month=date.month\n",
    "    day= date.day\n",
    "    offset = [0, 31, 59, 90, 120, 151, 181, 212, 243, 273, 304, 334]\n",
    "    week   = ['Sunday', \n",
    "              'Monday', \n",
    "              'Tuesday', \n",
    "              'Wednesday', \n",
    "              'Thursday',  \n",
    "              'Friday', \n",
    "              'Saturday']\n",
    "    afterFeb = 1\n",
    "    if month > 2: afterFeb = 0\n",
    "    aux = year - 1700 - afterFeb\n",
    "    # dayOfWeek for 1700/1/1 = 5, Friday\n",
    "    dayOfWeek  = 5\n",
    "    # partial sum of days betweem current date and 1700/1/1\n",
    "    dayOfWeek += (aux + afterFeb) * 365                  \n",
    "    # leap year correction    \n",
    "    dayOfWeek += aux / 4 - aux / 100 + (aux + 100) / 400     \n",
    "    # sum monthly and day offsets\n",
    "    dayOfWeek += offset[month - 1] + (day - 1)               \n",
    "    dayOfWeek %= 7\n",
    "    return dayOfWeek"
   ]
  },
  {
   "cell_type": "code",
   "execution_count": 35,
   "metadata": {
    "collapsed": true
   },
   "outputs": [],
   "source": [
    "def weekend(data):\n",
    "    if data==0 or data==6:\n",
    "        return 1\n",
    "    else: \n",
    "        return 0"
   ]
  },
  {
   "cell_type": "code",
   "execution_count": 36,
   "metadata": {
    "collapsed": true
   },
   "outputs": [],
   "source": [
    "events_union['Check']=events_union[['test','conversion']].apply(check,axis=1)"
   ]
  },
  {
   "cell_type": "code",
   "execution_count": 37,
   "metadata": {
    "collapsed": false
   },
   "outputs": [],
   "source": [
    "events_union['browserlanguage']=events_union['browser_language'].map(lambda x : browser_language(x))"
   ]
  },
  {
   "cell_type": "code",
   "execution_count": 38,
   "metadata": {
    "collapsed": false
   },
   "outputs": [],
   "source": [
    "events_union['Device']=events_union['device'].map(lambda x: device_check(x))\n",
    "events_union['Source']=events_union['source'].map(lambda x: source_check(x))\n",
    "events_union['Ads_channel']=events_union['ads_channel'].map(lambda x: ad_check(x))\n",
    "events_union['Browser']=events_union['browser'].map(lambda x: browser_check(x))\n",
    "events_union['Gender']=events_union['sex'].map(lambda x: gender(x))\n",
    "# events_union['Day']=events_union['date'].map(lambda x : weekDay(x))\n",
    "# events_union['Weekend']=events_union['Day'].map(lambda x: weekend(x))"
   ]
  },
  {
   "cell_type": "code",
   "execution_count": 39,
   "metadata": {
    "collapsed": false
   },
   "outputs": [],
   "source": [
    "events_union=events_union.drop(['source','device','ads_channel','browser','sex','date','test','conversion'],axis=1)"
   ]
  },
  {
   "cell_type": "code",
   "execution_count": 40,
   "metadata": {
    "collapsed": false
   },
   "outputs": [],
   "source": [
    "col= events_union.columns"
   ]
  },
  {
   "cell_type": "code",
   "execution_count": 41,
   "metadata": {
    "collapsed": false
   },
   "outputs": [],
   "source": [
    "for col in col :\n",
    "    if col == 'user_id 'or col == 'age':\n",
    "        continue\n",
    "    else:\n",
    "        events_union[col]=events_union[col].astype('category')\n",
    "        events_union[col]=events_union[col].cat.codes"
   ]
  },
  {
   "cell_type": "code",
   "execution_count": 42,
   "metadata": {
    "collapsed": true
   },
   "outputs": [],
   "source": [
    "from sklearn import cross_validation"
   ]
  },
  {
   "cell_type": "code",
   "execution_count": 43,
   "metadata": {
    "collapsed": false
   },
   "outputs": [],
   "source": [
    "train, test=cross_validation.train_test_split(events_union, train_size = 0.7)"
   ]
  },
  {
   "cell_type": "code",
   "execution_count": 45,
   "metadata": {
    "collapsed": false
   },
   "outputs": [],
   "source": [
    "Xtrain = train.drop(['user_id','Check','browserlanguage'],axis=1)\n",
    "Ytrain = train['Check']\n",
    "\n",
    "Xtest = test.drop(['user_id','Check','browserlanguage'],axis=1)\n",
    "Ytest = test['Check']\n"
   ]
  },
  {
   "cell_type": "code",
   "execution_count": 46,
   "metadata": {
    "collapsed": true
   },
   "outputs": [],
   "source": [
    "from sklearn.ensemble import RandomForestClassifier"
   ]
  },
  {
   "cell_type": "code",
   "execution_count": 47,
   "metadata": {
    "collapsed": true
   },
   "outputs": [],
   "source": [
    "rf = RandomForestClassifier()"
   ]
  },
  {
   "cell_type": "code",
   "execution_count": 48,
   "metadata": {
    "collapsed": false
   },
   "outputs": [
    {
     "data": {
      "text/plain": [
       "RandomForestClassifier(bootstrap=True, class_weight=None, criterion='gini',\n",
       "            max_depth=None, max_features='auto', max_leaf_nodes=None,\n",
       "            min_samples_leaf=1, min_samples_split=2,\n",
       "            min_weight_fraction_leaf=0.0, n_estimators=10, n_jobs=1,\n",
       "            oob_score=False, random_state=None, verbose=0,\n",
       "            warm_start=False)"
      ]
     },
     "execution_count": 48,
     "metadata": {},
     "output_type": "execute_result"
    }
   ],
   "source": [
    "rf.fit(Xtrain,Ytrain)"
   ]
  },
  {
   "cell_type": "code",
   "execution_count": 50,
   "metadata": {
    "collapsed": false
   },
   "outputs": [
    {
     "name": "stdout",
     "output_type": "stream",
     "text": [
      "                  importance\n",
      "feature                     \n",
      "country                0.542\n",
      "age                    0.351\n",
      "Browser                0.034\n",
      "Ads_channel            0.033\n",
      "browser_language       0.021\n",
      "Gender                 0.012\n",
      "Source                 0.006\n",
      "Device                 0.002\n"
     ]
    },
    {
     "data": {
      "text/plain": [
       "<matplotlib.axes._subplots.AxesSubplot at 0x1050d7f0>"
      ]
     },
     "execution_count": 50,
     "metadata": {},
     "output_type": "execute_result"
    },
    {
     "data": {
      "image/png": "[encoded data removed]",
      "text/plain": [
       "<matplotlib.figure.Figure at 0x1050d048>"
      ]
     },
     "metadata": {},
     "output_type": "display_data"
    }
   ],
   "source": [
    "importances = pd.DataFrame({'feature':Xtrain.columns,'importance':np.round(rf.feature_importances_,3)})\n",
    "importances = importances.sort_values('importance',ascending=False).set_index('feature')\n",
    "print (importances)\n",
    "importances.plot.bar()"
   ]
  },
  {
   "cell_type": "code",
   "execution_count": 49,
   "metadata": {
    "collapsed": false
   },
   "outputs": [
    {
     "data": {
      "text/html": [
       "<div>\n",
       "<table border=\"1\" class=\"dataframe\">\n",
       "  <thead>\n",
       "    <tr style=\"text-align: right;\">\n",
       "      <th>Check</th>\n",
       "      <th>0</th>\n",
       "      <th>1</th>\n",
       "    </tr>\n",
       "    <tr>\n",
       "      <th>row_0</th>\n",
       "      <th></th>\n",
       "      <th></th>\n",
       "    </tr>\n",
       "  </thead>\n",
       "  <tbody>\n",
       "    <tr>\n",
       "      <th>0</th>\n",
       "      <td>111617</td>\n",
       "      <td>48277</td>\n",
       "    </tr>\n",
       "    <tr>\n",
       "      <th>1</th>\n",
       "      <td>51809</td>\n",
       "      <td>105303</td>\n",
       "    </tr>\n",
       "  </tbody>\n",
       "</table>\n",
       "</div>"
      ],
      "text/plain": [
       "Check       0       1\n",
       "row_0                \n",
       "0      111617   48277\n",
       "1       51809  105303"
      ]
     },
     "execution_count": 49,
     "metadata": {},
     "output_type": "execute_result"
    }
   ],
   "source": [
    "pd.crosstab(rf.predict(Xtrain),Ytrain)"
   ]
  },
  {
   "cell_type": "code",
   "execution_count": 51,
   "metadata": {
    "collapsed": false
   },
   "outputs": [
    {
     "data": {
      "text/plain": [
       "0.684277269199952"
      ]
     },
     "execution_count": 51,
     "metadata": {},
     "output_type": "execute_result"
    }
   ],
   "source": [
    "(111617+105303)/len(train)"
   ]
  },
  {
   "cell_type": "code",
   "execution_count": 52,
   "metadata": {
    "collapsed": false
   },
   "outputs": [
    {
     "data": {
      "text/html": [
       "<div>\n",
       "<table border=\"1\" class=\"dataframe\">\n",
       "  <thead>\n",
       "    <tr style=\"text-align: right;\">\n",
       "      <th>Check</th>\n",
       "      <th>0</th>\n",
       "      <th>1</th>\n",
       "    </tr>\n",
       "    <tr>\n",
       "      <th>row_0</th>\n",
       "      <th></th>\n",
       "      <th></th>\n",
       "    </tr>\n",
       "  </thead>\n",
       "  <tbody>\n",
       "    <tr>\n",
       "      <th>0</th>\n",
       "      <td>40835</td>\n",
       "      <td>28110</td>\n",
       "    </tr>\n",
       "    <tr>\n",
       "      <th>1</th>\n",
       "      <td>29122</td>\n",
       "      <td>37794</td>\n",
       "    </tr>\n",
       "  </tbody>\n",
       "</table>\n",
       "</div>"
      ],
      "text/plain": [
       "Check      0      1\n",
       "row_0              \n",
       "0      40835  28110\n",
       "1      29122  37794"
      ]
     },
     "execution_count": 52,
     "metadata": {},
     "output_type": "execute_result"
    }
   ],
   "source": [
    "pd.crosstab(rf.predict(Xtest),Ytest)"
   ]
  },
  {
   "cell_type": "code",
   "execution_count": 56,
   "metadata": {
    "collapsed": false
   },
   "outputs": [
    {
     "data": {
      "text/plain": [
       "0.5798499937436056"
      ]
     },
     "execution_count": 56,
     "metadata": {},
     "output_type": "execute_result"
    }
   ],
   "source": [
    "((40669+38110)/len(test))"
   ]
  },
  {
   "cell_type": "code",
   "execution_count": null,
   "metadata": {
    "collapsed": true
   },
   "outputs": [],
   "source": []
  }
 ],
 "metadata": {
  "kernelspec": {
   "display_name": "Python [Root]",
   "language": "python",
   "name": "Python [Root]"
  },
  "language_info": {
   "codemirror_mode": {
    "name": "ipython",
    "version": 2
   },
   "file_extension": ".py",
   "mimetype": "text/x-python",
   "name": "python",
   "nbconvert_exporter": "python",
   "pygments_lexer": "ipython2",
   "version": "2.7.12"
  }
 },
 "nbformat": 4,
 "nbformat_minor": 0
}
