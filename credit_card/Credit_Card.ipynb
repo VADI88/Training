{
 "cells": [
  {
   "cell_type": "markdown",
   "metadata": {},
   "source": [
    "## Require packages"
   ]
  },
  {
   "cell_type": "code",
   "execution_count": 1,
   "metadata": {
    "collapsed": false
   },
   "outputs": [],
   "source": [
    "import pandas as pd \n",
    "import matplotlib.pyplot as plt\n",
    "import seaborn as sns\n",
    "%matplotlib inline\n",
    "import numpy as np\n",
    "from __future__ import division\n",
    "import gpxpy.geo\n",
    "from datetime import datetime\n",
    "from collections import defaultdict"
   ]
  },
  {
   "cell_type": "code",
   "execution_count": 2,
   "metadata": {
    "collapsed": false
   },
   "outputs": [],
   "source": [
    "credit_card= pd.read_csv('cc_info.csv')"
   ]
  },
  {
   "cell_type": "code",
   "execution_count": 3,
   "metadata": {
    "collapsed": false
   },
   "outputs": [
    {
     "name": "stdout",
     "output_type": "stream",
     "text": [
      "        credit_card      city state  zipcode  credit_card_limit\n",
      "0  1280981422329509    Dallas    PA    18612               6000\n",
      "1  9737219864179988   Houston    PA    15342              16000\n",
      "2  4749889059323202    Auburn    MA     1501              14000\n",
      "3  9591503562024072   Orlando    WV    26412              18000\n",
      "4  2095640259001271  New York    NY    10001              20000\n"
     ]
    }
   ],
   "source": [
    "print credit_card.head()"
   ]
  },
  {
   "cell_type": "code",
   "execution_count": 4,
   "metadata": {
    "collapsed": false
   },
   "outputs": [],
   "source": [
    "zipcode= pd.read_csv('US.txt',sep='\\t',header=None)\n",
    "zipcode.columns=['code','zipcode','name','name1','code1','name2','code2','name3','code3','latitude','longitude','accu']"
   ]
  },
  {
   "cell_type": "code",
   "execution_count": 5,
   "metadata": {
    "collapsed": true
   },
   "outputs": [],
   "source": [
    "credit_card_union = pd.merge(credit_card,zipcode,on='zipcode')"
   ]
  },
  {
   "cell_type": "code",
   "execution_count": 6,
   "metadata": {
    "collapsed": false
   },
   "outputs": [],
   "source": [
    "credit_card_union=credit_card_union.drop(['code','name','name1','code1','name2','code2','name3','code3','accu'],axis=1)"
   ]
  },
  {
   "cell_type": "code",
   "execution_count": 7,
   "metadata": {
    "collapsed": false
   },
   "outputs": [
    {
     "name": "stdout",
     "output_type": "stream",
     "text": [
      "        credit_card    city state  zipcode  credit_card_limit  latitude  \\\n",
      "0  1280981422329509  Dallas    PA    18612               6000   41.3494   \n",
      "1  9722420012449776  Dallas    PA    18612               6000   41.3494   \n",
      "2  4290726060535834  Dallas    PA    18612              10000   41.3494   \n",
      "3  3342907490282079  Dallas    PA    18612               5000   41.3494   \n",
      "4  4833760023644511  Dallas    PA    18612              30000   41.3494   \n",
      "\n",
      "   longitude  \n",
      "0   -75.9834  \n",
      "1   -75.9834  \n",
      "2   -75.9834  \n",
      "3   -75.9834  \n",
      "4   -75.9834  \n"
     ]
    }
   ],
   "source": [
    "print credit_card_union.head()"
   ]
  },
  {
   "cell_type": "code",
   "execution_count": 8,
   "metadata": {
    "collapsed": true
   },
   "outputs": [],
   "source": [
    "trans= pd.read_csv('transactions.csv')"
   ]
  },
  {
   "cell_type": "code",
   "execution_count": 9,
   "metadata": {
    "collapsed": false
   },
   "outputs": [
    {
     "name": "stdout",
     "output_type": "stream",
     "text": [
      "        credit_card                 date  transaction_dollar_amount  \\\n",
      "0  1003715054175576  2015-09-11 00:32:40                      43.78   \n",
      "1  1003715054175576  2015-10-24 22:23:08                     103.15   \n",
      "2  1003715054175576  2015-10-26 18:19:36                      48.55   \n",
      "3  1003715054175576  2015-10-22 19:41:10                     136.18   \n",
      "4  1003715054175576  2015-10-26 20:08:22                      71.82   \n",
      "\n",
      "        Long        Lat  \n",
      "0 -80.174132  40.267370  \n",
      "1 -80.194240  40.180114  \n",
      "2 -80.211033  40.313004  \n",
      "3 -80.174138  40.290895  \n",
      "4 -80.238720  40.166719  \n"
     ]
    }
   ],
   "source": [
    "print trans.head()"
   ]
  },
  {
   "cell_type": "code",
   "execution_count": 10,
   "metadata": {
    "collapsed": false
   },
   "outputs": [],
   "source": [
    "def weekDay(date):\n",
    "    date=datetime.strptime(date,\"%Y-%m-%d\")\n",
    "    year=date.year\n",
    "    month=date.month\n",
    "    day= date.day\n",
    "    offset = [0, 31, 59, 90, 120, 151, 181, 212, 243, 273, 304, 334]\n",
    "    week   = ['Sunday', \n",
    "              'Monday', \n",
    "              'Tuesday', \n",
    "              'Wednesday', \n",
    "              'Thursday',  \n",
    "              'Friday', \n",
    "              'Saturday']\n",
    "    afterFeb = 1\n",
    "    if month > 2: afterFeb = 0\n",
    "    aux = year - 1700 - afterFeb\n",
    "    # dayOfWeek for 1700/1/1 = 5, Friday\n",
    "    dayOfWeek  = 5\n",
    "    # partial sum of days betweem current date and 1700/1/1\n",
    "    dayOfWeek += (aux + afterFeb) * 365                  \n",
    "    # leap year correction    \n",
    "    dayOfWeek += aux / 4 - aux / 100 + (aux + 100) / 400     \n",
    "    # sum monthly and day offsets\n",
    "    dayOfWeek += offset[month - 1] + (day - 1)               \n",
    "    dayOfWeek %= 7\n",
    "    return int(dayOfWeek)"
   ]
  },
  {
   "cell_type": "code",
   "execution_count": 11,
   "metadata": {
    "collapsed": true
   },
   "outputs": [],
   "source": [
    "def distance(data):\n",
    "    # What you were looking for\n",
    "    lat1=data['latitude']\n",
    "    lon1=data['longitude']\n",
    "    \n",
    "    lon2=data['Long']\n",
    "    lat2=data['Lat']\n",
    "    dist = gpxpy.geo.haversine_distance(lat1, lon1, lat2, lon2)\n",
    "    return dist/1000"
   ]
  },
  {
   "cell_type": "code",
   "execution_count": 12,
   "metadata": {
    "collapsed": true
   },
   "outputs": [],
   "source": [
    "def weekend(data):\n",
    "    if data==0 or data==6:\n",
    "        return 1\n",
    "    else: \n",
    "        return 0"
   ]
  },
  {
   "cell_type": "code",
   "execution_count": 13,
   "metadata": {
    "collapsed": true
   },
   "outputs": [],
   "source": [
    "def check(data):\n",
    "    amount = data[0]\n",
    "    value = data[1]\n",
    "    if amount > value :\n",
    "        return 1\n",
    "    else:\n",
    "        return 0 "
   ]
  },
  {
   "cell_type": "code",
   "execution_count": 14,
   "metadata": {
    "collapsed": true
   },
   "outputs": [],
   "source": [
    "def possible_fraud(data):\n",
    "    amount_check=data[0]\n",
    "    distance_check = data[1]\n",
    "    if amount_check ==1 or distance_check ==1:\n",
    "        return 1\n",
    "    else:\n",
    "        return 0"
   ]
  },
  {
   "cell_type": "code",
   "execution_count": 15,
   "metadata": {
    "collapsed": true
   },
   "outputs": [],
   "source": [
    "def limitedexceed(data):\n",
    "    limit = data['credit_card_limit']\n",
    "    trans_amount=data['transaction_dollar_amount']\n",
    "    if trans_amount>=limit:\n",
    "        return 1 \n",
    "    else:\n",
    "        return 0\n",
    "    "
   ]
  },
  {
   "cell_type": "code",
   "execution_count": 16,
   "metadata": {
    "collapsed": true
   },
   "outputs": [],
   "source": [
    "def above_spend(trans,date):\n",
    "    user_info = {}\n",
    "    User_list = []\n",
    "    Month=datetime.strptime(date,\"%Y-%m-%d\").month\n",
    "    \n",
    "    trans['Date']=trans['date'].map(lambda x: datetime.strptime(x,\"%Y-%m-%d %H:%M:%S\").strftime(\"%Y-%m-%d\"))\n",
    "    trans['Month']=trans['date'].map(lambda x: datetime.strptime(x,\"%Y-%m-%d %H:%M:%S\").month)\n",
    "    trans=trans[(trans['Date']<=date)&(trans['Month']==Month)]\n",
    "\n",
    "    trans_group= trans.groupby(['Month','credit_card'])\n",
    "    trans_pivot = pd.DataFrame(trans_group['transaction_dollar_amount'].sum()).reset_index()\n",
    "    trans_union = pd.merge(trans_pivot,credit_card,on='credit_card')\n",
    "    trans_union['Limit1']=trans_union[['credit_card_limit','transaction_dollar_amount']].apply(limitedexceed,axis=1)\n",
    "    \n",
    "    for i in range(0, len(trans_union)):\n",
    "        #print i \n",
    "        if trans_union['Limit1'][i]==1:\n",
    "            credit_card1 = trans_union['credit_card'][i]\n",
    "            city=trans_union['city'][i]\n",
    "            state=trans_union['state'][i]\n",
    "            zipcode=trans_union['zipcode'][i]\n",
    "            user_info={'Credit_Card':credit_card1,\n",
    "                       'City':city,\n",
    "                       'State':state,\n",
    "                       'Zipcode':zipcode\n",
    "                               \n",
    "            }\n",
    "            \n",
    "            User_list.append(user_info)\n",
    "            \n",
    "        else:\n",
    "            continue\n",
    "        \n",
    "        \n",
    "    return User_list"
   ]
  },
  {
   "cell_type": "code",
   "execution_count": 17,
   "metadata": {
    "collapsed": true
   },
   "outputs": [],
   "source": [
    "def never_spend(trans,calendar_month):\n",
    "    user_info = {}\n",
    "    User_list = []\n",
    "    trans['Month']=trans['date'].map(lambda x: datetime.strptime(x,\"%Y-%m-%d %H:%M:%S\").month)\n",
    "    trans_group= trans.groupby(['Month','credit_card'])\n",
    "    trans_pivot = pd.DataFrame(trans_group['transaction_dollar_amount'].sum()).reset_index()\n",
    "    trans_union = pd.merge(trans_pivot,credit_card,on='credit_card')\n",
    "    trans_union['Limit1']=trans_union[['credit_card_limit','transaction_dollar_amount']].apply(limitedexceed,axis=1)\n",
    "    \n",
    "    \n",
    "    for i in range(0, len(trans_union)):\n",
    "        #print i \n",
    "        if (trans_union['Month'][i]==calendar_month )and (trans_union['Limit1'][i]==0):\n",
    "            credit_card1 = trans_union['credit_card'][i]\n",
    "            city=trans_union['city'][i]\n",
    "            state=trans_union['state'][i]\n",
    "            zipcode=trans_union['zipcode'][i]\n",
    "            user_info={'Credit_Card':credit_card1,\n",
    "                       'City':city,\n",
    "                       'State':state,\n",
    "                       'Zipcode':zipcode\n",
    "                               \n",
    "            }\n",
    "            \n",
    "            User_list.append(user_info)\n",
    "            \n",
    "        else:\n",
    "            continue\n",
    "        \n",
    "        \n",
    "    return User_list"
   ]
  },
  {
   "cell_type": "markdown",
   "metadata": {},
   "source": [
    "## Question 1 \n",
    "Boss wants to identify those users that in your dataset never went above the monthly credit card limit 􏰍(calendar month)􏰎. The goal of this is to automatically increase their limit. Can you send him the list of Ids? "
   ]
  },
  {
   "cell_type": "code",
   "execution_count": 18,
   "metadata": {
    "collapsed": false
   },
   "outputs": [
    {
     "name": "stdout",
     "output_type": "stream",
     "text": [
      "[{'City': 'Houston', 'State': 'PA', 'Zipcode': 15342, 'Credit_Card': 1003715054175576}, {'City': 'Washington', 'State': 'NH', 'Zipcode': 3280, 'Credit_Card': 1013870087888817}, {'City': 'Charlotte', 'State': 'VT', 'Zipcode': 5445, 'Credit_Card': 1023820165155391}, {'City': 'Dallas', 'State': 'PA', 'Zipcode': 18612, 'Credit_Card': 1073931538936472}, {'City': 'Seattle', 'State': 'WA', 'Zipcode': 98060, 'Credit_Card': 1087468642191606}, {'City': 'Buffalo', 'State': 'NY', 'Zipcode': 14201, 'Credit_Card': 1089479586475600}, {'City': 'Washington', 'State': 'NH', 'Zipcode': 3280, 'Credit_Card': 1101164752077181}, {'City': 'New York', 'State': 'NY', 'Zipcode': 10001, 'Credit_Card': 1107936587129946}, {'City': 'Houston', 'State': 'PA', 'Zipcode': 15342, 'Credit_Card': 1126571863414211}, {'City': 'El Paso', 'State': 'IL', 'Zipcode': 61738, 'Credit_Card': 1128536627506856}, {'City': 'Washington', 'State': 'NH', 'Zipcode': 3280, 'Credit_Card': 1134742235676586}, {'City': 'Houston', 'State': 'PA', 'Zipcode': 15342, 'Credit_Card': 1137926374621536}, {'City': 'Louisville', 'State': 'GA', 'Zipcode': 30434, 'Credit_Card': 1144894232607400}, {'City': 'Richmond', 'State': 'MA', 'Zipcode': 1254, 'Credit_Card': 1155726765596507}, {'City': 'Miami', 'State': 'WV', 'Zipcode': 25134, 'Credit_Card': 1156998467006869}, {'City': 'New York', 'State': 'NY', 'Zipcode': 10001, 'Credit_Card': 1165413984579076}, {'City': 'Richmond', 'State': 'MA', 'Zipcode': 1254, 'Credit_Card': 1167475218806361}, {'City': 'Tampa', 'State': 'FL', 'Zipcode': 33601, 'Credit_Card': 1169271395749970}, {'City': 'Arlington', 'State': 'MA', 'Zipcode': 2174, 'Credit_Card': 1175962294549313}, {'City': 'El Paso', 'State': 'IL', 'Zipcode': 61738, 'Credit_Card': 1190980117697422}, {'City': 'Oakland', 'State': 'RI', 'Zipcode': 2858, 'Credit_Card': 1191702776174515}, {'City': 'Columbus', 'State': 'NJ', 'Zipcode': 8022, 'Credit_Card': 1210872963953886}, {'City': 'Cedar Rapids', 'State': 'IA', 'Zipcode': 52401, 'Credit_Card': 1221421251374063}, {'City': 'Washington', 'State': 'NH', 'Zipcode': 3280, 'Credit_Card': 1222730774437945}, {'City': 'Miami', 'State': 'WV', 'Zipcode': 25134, 'Credit_Card': 1224132812823172}, {'City': 'Dallas', 'State': 'PA', 'Zipcode': 18612, 'Credit_Card': 1228288249952859}, {'City': 'Washington', 'State': 'NH', 'Zipcode': 3280, 'Credit_Card': 1246716439259317}, {'City': 'Washington', 'State': 'NH', 'Zipcode': 3280, 'Credit_Card': 1254472912142815}, {'City': 'Atlanta', 'State': 'NY', 'Zipcode': 14808, 'Credit_Card': 1261411767321605}, {'City': 'El Paso', 'State': 'IL', 'Zipcode': 61738, 'Credit_Card': 1264384810841217}, {'City': 'Dallas', 'State': 'PA', 'Zipcode': 18612, 'Credit_Card': 1280981422329509}, {'City': 'Washington', 'State': 'NH', 'Zipcode': 3280, 'Credit_Card': 1295205764436116}, {'City': 'Dallas', 'State': 'PA', 'Zipcode': 18612, 'Credit_Card': 1301519430111888}, {'City': 'Washington', 'State': 'NH', 'Zipcode': 3280, 'Credit_Card': 1312823087473107}, {'City': 'Clinton', 'State': 'MA', 'Zipcode': 1510, 'Credit_Card': 1326817464191542}, {'City': 'Seattle', 'State': 'WA', 'Zipcode': 98060, 'Credit_Card': 1337293370722685}, {'City': 'Columbus', 'State': 'NJ', 'Zipcode': 8022, 'Credit_Card': 1363526625562684}, {'City': 'New York', 'State': 'NY', 'Zipcode': 10001, 'Credit_Card': 1368742094369263}, {'City': 'Clinton', 'State': 'MA', 'Zipcode': 1510, 'Credit_Card': 1380553699881195}, {'City': 'Miami', 'State': 'WV', 'Zipcode': 25134, 'Credit_Card': 1388343943378591}, {'City': 'Pittsburgh', 'State': 'PA', 'Zipcode': 15201, 'Credit_Card': 1402909379316770}, {'City': 'Houston', 'State': 'PA', 'Zipcode': 15342, 'Credit_Card': 1409322756311484}, {'City': 'Cincinnati', 'State': 'OH', 'Zipcode': 45201, 'Credit_Card': 1428403246999020}, {'City': 'Auburn', 'State': 'MA', 'Zipcode': 1501, 'Credit_Card': 1459700728665333}, {'City': 'Houston', 'State': 'PA', 'Zipcode': 15342, 'Credit_Card': 1468686791689484}, {'City': 'Charleston', 'State': 'ME', 'Zipcode': 4422, 'Credit_Card': 1475826831184689}, {'City': 'Houston', 'State': 'PA', 'Zipcode': 15342, 'Credit_Card': 1488824811225438}, {'City': 'Washington', 'State': 'NH', 'Zipcode': 3280, 'Credit_Card': 1492903951796501}, {'City': 'Washington', 'State': 'NH', 'Zipcode': 3280, 'Credit_Card': 1498307521782517}, {'City': 'Washington', 'State': 'NH', 'Zipcode': 3280, 'Credit_Card': 1501541842357388}, {'City': 'Dallas', 'State': 'PA', 'Zipcode': 18612, 'Credit_Card': 1505998080559428}, {'City': 'Washington', 'State': 'NH', 'Zipcode': 3280, 'Credit_Card': 1508274565891207}, {'City': 'Houston', 'State': 'PA', 'Zipcode': 15342, 'Credit_Card': 1538309249157612}, {'City': 'Washington', 'State': 'NH', 'Zipcode': 3280, 'Credit_Card': 1540571164649072}, {'City': 'Washington', 'State': 'NH', 'Zipcode': 3280, 'Credit_Card': 1551312972663650}, {'City': 'Washington', 'State': 'NH', 'Zipcode': 3280, 'Credit_Card': 1562104682001408}, {'City': 'Atlanta', 'State': 'NY', 'Zipcode': 14808, 'Credit_Card': 1571950024675150}, {'City': 'Springfield', 'State': 'MA', 'Zipcode': 1101, 'Credit_Card': 1582804611799136}, {'City': 'Washington', 'State': 'NH', 'Zipcode': 3280, 'Credit_Card': 1615829389733620}, {'City': 'Washington', 'State': 'NH', 'Zipcode': 3280, 'Credit_Card': 1654474816562824}, {'City': 'Washington', 'State': 'NH', 'Zipcode': 3280, 'Credit_Card': 1664685555838993}, {'City': 'Columbus', 'State': 'NJ', 'Zipcode': 8022, 'Credit_Card': 1668261999348087}, {'City': 'Washington', 'State': 'NH', 'Zipcode': 3280, 'Credit_Card': 1688895281144247}, {'City': 'Washington', 'State': 'NH', 'Zipcode': 3280, 'Credit_Card': 1691402616456783}, {'City': 'Jackson', 'State': 'NH', 'Zipcode': 3846, 'Credit_Card': 1701518284353388}, {'City': 'Washington', 'State': 'NH', 'Zipcode': 3280, 'Credit_Card': 1702788839758517}, {'City': 'Washington', 'State': 'NH', 'Zipcode': 3280, 'Credit_Card': 1713761471587217}, {'City': 'Jackson', 'State': 'NH', 'Zipcode': 3846, 'Credit_Card': 1716846938844184}, {'City': 'Sacramento', 'State': 'PA', 'Zipcode': 17968, 'Credit_Card': 1740452094861972}, {'City': 'Sacramento', 'State': 'PA', 'Zipcode': 17968, 'Credit_Card': 1742293159722384}, {'City': 'Washington', 'State': 'NH', 'Zipcode': 3280, 'Credit_Card': 1761568277897366}, {'City': 'Las Vegas', 'State': 'NM', 'Zipcode': 87701, 'Credit_Card': 1786706888116468}, {'City': 'Madison', 'State': 'NH', 'Zipcode': 3849, 'Credit_Card': 1790418788918417}, {'City': 'Austin', 'State': 'PA', 'Zipcode': 16720, 'Credit_Card': 1800690977956392}, {'City': 'Washington', 'State': 'NH', 'Zipcode': 3280, 'Credit_Card': 1809105277432987}, {'City': 'Jackson', 'State': 'NH', 'Zipcode': 3846, 'Credit_Card': 1818161941088271}, {'City': 'Boston', 'State': 'MA', 'Zipcode': 2101, 'Credit_Card': 1827724345844879}, {'City': 'Arlington', 'State': 'MA', 'Zipcode': 2174, 'Credit_Card': 1833346877787047}, {'City': 'El Paso', 'State': 'IL', 'Zipcode': 61738, 'Credit_Card': 1845720274833905}, {'City': 'Washington', 'State': 'NH', 'Zipcode': 3280, 'Credit_Card': 1850995745665541}, {'City': 'El Paso', 'State': 'IL', 'Zipcode': 61738, 'Credit_Card': 1865432240591358}, {'City': 'Houston', 'State': 'PA', 'Zipcode': 15342, 'Credit_Card': 1897978162924096}, {'City': 'Washington', 'State': 'NH', 'Zipcode': 3280, 'Credit_Card': 1916247437596108}, {'City': 'Madison', 'State': 'NH', 'Zipcode': 3849, 'Credit_Card': 1943216273885700}, {'City': 'Washington', 'State': 'NH', 'Zipcode': 3280, 'Credit_Card': 1991581570861050}, {'City': 'Atlanta', 'State': 'NY', 'Zipcode': 14808, 'Credit_Card': 1997929794676601}, {'City': 'Houston', 'State': 'PA', 'Zipcode': 15342, 'Credit_Card': 2000422161074606}, {'City': 'Springfield', 'State': 'MA', 'Zipcode': 1101, 'Credit_Card': 2006318724037943}, {'City': 'Saint Paul', 'State': 'VA', 'Zipcode': 24283, 'Credit_Card': 2009239634184904}, {'City': 'Washington', 'State': 'NH', 'Zipcode': 3280, 'Credit_Card': 2011225415908789}, {'City': 'Washington', 'State': 'NH', 'Zipcode': 3280, 'Credit_Card': 2012803986778779}, {'City': 'Washington', 'State': 'NH', 'Zipcode': 3280, 'Credit_Card': 2015751582522409}, {'City': 'Dallas', 'State': 'PA', 'Zipcode': 18612, 'Credit_Card': 2018846126249619}, {'City': 'Somerset', 'State': 'MA', 'Zipcode': 2725, 'Credit_Card': 2020458328196357}, {'City': 'Louisville', 'State': 'GA', 'Zipcode': 30434, 'Credit_Card': 2025583437341338}, {'City': 'Washington', 'State': 'NH', 'Zipcode': 3280, 'Credit_Card': 2032689281683871}, {'City': 'Washington', 'State': 'NH', 'Zipcode': 3280, 'Credit_Card': 2035931394067428}, {'City': 'New York', 'State': 'NY', 'Zipcode': 10001, 'Credit_Card': 2053649899928978}, {'City': 'Washington', 'State': 'NH', 'Zipcode': 3280, 'Credit_Card': 2061754198464906}, {'City': 'New York', 'State': 'NY', 'Zipcode': 10001, 'Credit_Card': 2065958041391621}, {'City': 'Houston', 'State': 'PA', 'Zipcode': 15342, 'Credit_Card': 2082491371163072}, {'City': 'Atlanta', 'State': 'NY', 'Zipcode': 14808, 'Credit_Card': 2089905184376958}, {'City': 'New York', 'State': 'NY', 'Zipcode': 10001, 'Credit_Card': 2095640259001271}, {'City': 'Kansas City', 'State': 'MO', 'Zipcode': 64101, 'Credit_Card': 2097167243683055}, {'City': 'Washington', 'State': 'NH', 'Zipcode': 3280, 'Credit_Card': 2109905364259199}, {'City': 'Washington', 'State': 'NH', 'Zipcode': 3280, 'Credit_Card': 2129295395003567}, {'City': 'Washington', 'State': 'NH', 'Zipcode': 3280, 'Credit_Card': 2141766487923280}, {'City': 'Charlotte', 'State': 'VT', 'Zipcode': 5445, 'Credit_Card': 2143299125896595}, {'City': 'Oklahoma City', 'State': 'OK', 'Zipcode': 73101, 'Credit_Card': 2159761840702960}, {'City': 'Washington', 'State': 'NH', 'Zipcode': 3280, 'Credit_Card': 2170125942816920}, {'City': 'Quitman', 'State': 'GA', 'Zipcode': 31643, 'Credit_Card': 2197407580768462}, {'City': 'Washington', 'State': 'NH', 'Zipcode': 3280, 'Credit_Card': 2206106834866031}, {'City': 'San Francisco', 'State': 'CA', 'Zipcode': 94101, 'Credit_Card': 2216132730528773}, {'City': 'San Antonio', 'State': 'PR', 'Zipcode': 690, 'Credit_Card': 2217812082379607}, {'City': 'Washington', 'State': 'NH', 'Zipcode': 3280, 'Credit_Card': 2218504565462778}, {'City': 'Houston', 'State': 'PA', 'Zipcode': 15342, 'Credit_Card': 2221202850421562}, {'City': 'El Paso', 'State': 'IL', 'Zipcode': 61738, 'Credit_Card': 2229356545413340}, {'City': 'Buffalo', 'State': 'NY', 'Zipcode': 14201, 'Credit_Card': 2238144513466760}, {'City': 'Washington', 'State': 'NH', 'Zipcode': 3280, 'Credit_Card': 2239759218122779}, {'City': 'Washington', 'State': 'NH', 'Zipcode': 3280, 'Credit_Card': 2241726319111705}, {'City': 'Miami', 'State': 'WV', 'Zipcode': 25134, 'Credit_Card': 2246920751887814}, {'City': 'Houston', 'State': 'PA', 'Zipcode': 15342, 'Credit_Card': 2250292384508608}, {'City': 'Houston', 'State': 'PA', 'Zipcode': 15342, 'Credit_Card': 2260531719298071}, {'City': 'New York', 'State': 'NY', 'Zipcode': 10001, 'Credit_Card': 2290290643257636}, {'City': 'Lexington', 'State': 'MA', 'Zipcode': 2173, 'Credit_Card': 2300367582228844}, {'City': 'El Paso', 'State': 'IL', 'Zipcode': 61738, 'Credit_Card': 2303171755251168}, {'City': 'Washington', 'State': 'NH', 'Zipcode': 3280, 'Credit_Card': 2318279413327098}, {'City': 'Washington', 'State': 'NH', 'Zipcode': 3280, 'Credit_Card': 2319535367187634}, {'City': 'Los Angeles', 'State': 'CA', 'Zipcode': 90001, 'Credit_Card': 2324277636337514}, {'City': 'Cincinnati', 'State': 'OH', 'Zipcode': 45201, 'Credit_Card': 2340521163476561}, {'City': 'Houston', 'State': 'PA', 'Zipcode': 15342, 'Credit_Card': 2341891378416287}, {'City': 'El Paso', 'State': 'IL', 'Zipcode': 61738, 'Credit_Card': 2377857415001409}, {'City': 'Newport', 'State': 'RI', 'Zipcode': 2840, 'Credit_Card': 2396988576748662}, {'City': 'Washington', 'State': 'NH', 'Zipcode': 3280, 'Credit_Card': 2420143847731044}, {'City': 'Washington', 'State': 'NH', 'Zipcode': 3280, 'Credit_Card': 2440730617592819}, {'City': 'Memphis', 'State': 'NY', 'Zipcode': 13112, 'Credit_Card': 2441100449108586}, {'City': 'Tulsa', 'State': 'OK', 'Zipcode': 74101, 'Credit_Card': 2469800015876540}, {'City': 'Houston', 'State': 'PA', 'Zipcode': 15342, 'Credit_Card': 2473526792975445}, {'City': 'Washington', 'State': 'NH', 'Zipcode': 3280, 'Credit_Card': 2542445829224998}, {'City': 'Washington', 'State': 'NH', 'Zipcode': 3280, 'Credit_Card': 2544794177165766}, {'City': 'San Diego', 'State': 'TX', 'Zipcode': 78384, 'Credit_Card': 2548694161694583}, {'City': 'Washington', 'State': 'NH', 'Zipcode': 3280, 'Credit_Card': 2557172553412520}, {'City': 'Charleston', 'State': 'ME', 'Zipcode': 4422, 'Credit_Card': 2600687426901365}, {'City': 'Albany', 'State': 'VT', 'Zipcode': 5820, 'Credit_Card': 2617818479902672}, {'City': 'New York', 'State': 'NY', 'Zipcode': 10001, 'Credit_Card': 2620704021218241}, {'City': 'Washington', 'State': 'NH', 'Zipcode': 3280, 'Credit_Card': 2625359414931381}, {'City': 'Washington', 'State': 'NH', 'Zipcode': 3280, 'Credit_Card': 2635734164793243}, {'City': 'Kansas City', 'State': 'MO', 'Zipcode': 64101, 'Credit_Card': 2639660431498464}, {'City': 'San Diego', 'State': 'TX', 'Zipcode': 78384, 'Credit_Card': 2647136239925128}, {'City': 'Washington', 'State': 'NH', 'Zipcode': 3280, 'Credit_Card': 2672797853275095}, {'City': 'Washington', 'State': 'NH', 'Zipcode': 3280, 'Credit_Card': 2689382042733559}, {'City': 'Houston', 'State': 'PA', 'Zipcode': 15342, 'Credit_Card': 2692109715166166}, {'City': 'Washington', 'State': 'NH', 'Zipcode': 3280, 'Credit_Card': 2698111742263426}, {'City': 'Washington', 'State': 'NH', 'Zipcode': 3280, 'Credit_Card': 2718893247424677}, {'City': 'Miami', 'State': 'WV', 'Zipcode': 25134, 'Credit_Card': 2737987462573599}, {'City': 'Lafayette', 'State': 'NJ', 'Zipcode': 7848, 'Credit_Card': 2743655125021019}, {'City': 'Washington', 'State': 'NH', 'Zipcode': 3280, 'Credit_Card': 2756688131944353}, {'City': 'Buffalo', 'State': 'NY', 'Zipcode': 14201, 'Credit_Card': 2760867830405786}, {'City': 'Knoxville', 'State': 'PA', 'Zipcode': 16928, 'Credit_Card': 2800799152896633}, {'City': 'El Paso', 'State': 'IL', 'Zipcode': 61738, 'Credit_Card': 2805299759365579}, {'City': 'New York', 'State': 'NY', 'Zipcode': 10001, 'Credit_Card': 2817353387367914}, {'City': 'Washington', 'State': 'NH', 'Zipcode': 3280, 'Credit_Card': 2850146878241916}, {'City': 'New York', 'State': 'NY', 'Zipcode': 10001, 'Credit_Card': 2853112388344894}, {'City': 'New York', 'State': 'NY', 'Zipcode': 10001, 'Credit_Card': 2899375199449433}, {'City': 'Washington', 'State': 'NH', 'Zipcode': 3280, 'Credit_Card': 2921263077776915}, {'City': 'Tacoma', 'State': 'WA', 'Zipcode': 98401, 'Credit_Card': 2925559987432581}, {'City': 'Friendship', 'State': 'ME', 'Zipcode': 4547, 'Credit_Card': 2932839780724266}, {'City': 'El Paso', 'State': 'IL', 'Zipcode': 61738, 'Credit_Card': 2941992413383931}, {'City': 'Indianapolis', 'State': 'IN', 'Zipcode': 46201, 'Credit_Card': 2954456265698260}, {'City': 'Washington', 'State': 'NH', 'Zipcode': 3280, 'Credit_Card': 2964226721442922}, {'City': 'Washington', 'State': 'NH', 'Zipcode': 3280, 'Credit_Card': 3000865854914214}, {'City': 'New York', 'State': 'NY', 'Zipcode': 10001, 'Credit_Card': 3002135240381800}, {'City': 'Dallas', 'State': 'PA', 'Zipcode': 18612, 'Credit_Card': 3015736744626726}, {'City': 'Newark', 'State': 'NJ', 'Zipcode': 7101, 'Credit_Card': 3046519985237274}, {'City': 'Washington', 'State': 'NH', 'Zipcode': 3280, 'Credit_Card': 3051234642059526}, {'City': 'Washington', 'State': 'NH', 'Zipcode': 3280, 'Credit_Card': 3053439628501145}, {'City': 'Amarillo', 'State': 'TX', 'Zipcode': 79101, 'Credit_Card': 3070283164295984}, {'City': 'Oklahoma City', 'State': 'OK', 'Zipcode': 73101, 'Credit_Card': 3084925533151405}, {'City': 'Washington', 'State': 'NH', 'Zipcode': 3280, 'Credit_Card': 3086742415895605}, {'City': 'Birmingham', 'State': 'NJ', 'Zipcode': 8011, 'Credit_Card': 3091243789501733}, {'City': 'Dallas', 'State': 'PA', 'Zipcode': 18612, 'Credit_Card': 3095443081295019}, {'City': 'New York', 'State': 'NY', 'Zipcode': 10001, 'Credit_Card': 3125397457087333}, {'City': 'Washington', 'State': 'NH', 'Zipcode': 3280, 'Credit_Card': 3126713197438541}, {'City': 'Washington', 'State': 'NH', 'Zipcode': 3280, 'Credit_Card': 3129775937278112}, {'City': 'Washington', 'State': 'NH', 'Zipcode': 3280, 'Credit_Card': 3130956058854105}, {'City': 'Washington', 'State': 'NH', 'Zipcode': 3280, 'Credit_Card': 3141741552082614}, {'City': 'El Paso', 'State': 'IL', 'Zipcode': 61738, 'Credit_Card': 3197366545608306}, {'City': 'Dayton', 'State': 'NJ', 'Zipcode': 8810, 'Credit_Card': 3198356899091665}, {'City': 'Alexandria', 'State': 'PA', 'Zipcode': 16611, 'Credit_Card': 3199929867863316}, {'City': 'Washington', 'State': 'NH', 'Zipcode': 3280, 'Credit_Card': 3208666010319493}, {'City': 'Washington', 'State': 'NH', 'Zipcode': 3280, 'Credit_Card': 3222599265756712}, {'City': 'New York', 'State': 'NY', 'Zipcode': 10001, 'Credit_Card': 3224706753595872}, {'City': 'Arlington', 'State': 'MA', 'Zipcode': 2174, 'Credit_Card': 3238229810297729}, {'City': 'Washington', 'State': 'NH', 'Zipcode': 3280, 'Credit_Card': 3252422521439823}, {'City': 'Cincinnati', 'State': 'OH', 'Zipcode': 45201, 'Credit_Card': 3253141560871065}, {'City': 'Colorado Springs', 'State': 'CO', 'Zipcode': 80509, 'Credit_Card': 3259748360353854}, {'City': 'Washington', 'State': 'NH', 'Zipcode': 3280, 'Credit_Card': 3269417514626180}, {'City': 'San Diego', 'State': 'TX', 'Zipcode': 78384, 'Credit_Card': 3281814060807145}, {'City': 'Houston', 'State': 'PA', 'Zipcode': 15342, 'Credit_Card': 3283780398702017}, {'City': 'Indianapolis', 'State': 'IN', 'Zipcode': 46201, 'Credit_Card': 3297156822354843}, {'City': 'San Diego', 'State': 'TX', 'Zipcode': 78384, 'Credit_Card': 3306399358832671}, {'City': 'Atlanta', 'State': 'NY', 'Zipcode': 14808, 'Credit_Card': 3311276221301887}, {'City': 'Albany', 'State': 'VT', 'Zipcode': 5820, 'Credit_Card': 3317657129455475}, {'City': 'Dallas', 'State': 'PA', 'Zipcode': 18612, 'Credit_Card': 3342907490282079}, {'City': 'Washington', 'State': 'NH', 'Zipcode': 3280, 'Credit_Card': 3352988767824026}, {'City': 'Washington', 'State': 'NH', 'Zipcode': 3280, 'Credit_Card': 3357251116163441}, {'City': 'Akron', 'State': 'NY', 'Zipcode': 14001, 'Credit_Card': 3367848759678576}, {'City': 'Miami', 'State': 'WV', 'Zipcode': 25134, 'Credit_Card': 3384913269838299}, {'City': 'Washington', 'State': 'NH', 'Zipcode': 3280, 'Credit_Card': 3410360221015707}, {'City': 'Miami', 'State': 'WV', 'Zipcode': 25134, 'Credit_Card': 3424173121597094}, {'City': 'Houston', 'State': 'PA', 'Zipcode': 15342, 'Credit_Card': 3436245968389889}, {'City': 'Washington', 'State': 'NH', 'Zipcode': 3280, 'Credit_Card': 3448348878698904}, {'City': 'Washington', 'State': 'NH', 'Zipcode': 3280, 'Credit_Card': 3454193028012809}, {'City': 'Indianapolis', 'State': 'IN', 'Zipcode': 46201, 'Credit_Card': 3457862814915595}, {'City': 'Washington', 'State': 'NH', 'Zipcode': 3280, 'Credit_Card': 3481671427731175}, {'City': 'Springfield', 'State': 'MA', 'Zipcode': 1101, 'Credit_Card': 3486363890209406}, {'City': 'Washington', 'State': 'NH', 'Zipcode': 3280, 'Credit_Card': 3489836158322637}, {'City': 'Washington', 'State': 'NH', 'Zipcode': 3280, 'Credit_Card': 3506311286355533}, {'City': 'Atlanta', 'State': 'NY', 'Zipcode': 14808, 'Credit_Card': 3511407381857380}, {'City': 'Washington', 'State': 'NH', 'Zipcode': 3280, 'Credit_Card': 3514909947941558}, {'City': 'Washington', 'State': 'NH', 'Zipcode': 3280, 'Credit_Card': 3517760483459935}, {'City': 'Oklahoma City', 'State': 'OK', 'Zipcode': 73101, 'Credit_Card': 3539204020033123}, {'City': 'Fresno', 'State': 'OH', 'Zipcode': 43824, 'Credit_Card': 3541586324828319}, {'City': 'Washington', 'State': 'NH', 'Zipcode': 3280, 'Credit_Card': 3547198874425548}, {'City': 'El Paso', 'State': 'IL', 'Zipcode': 61738, 'Credit_Card': 3551280959338794}, {'City': 'Sacramento', 'State': 'PA', 'Zipcode': 17968, 'Credit_Card': 3552650080971064}, {'City': 'Washington', 'State': 'NH', 'Zipcode': 3280, 'Credit_Card': 3575809678541644}, {'City': 'Louisville', 'State': 'GA', 'Zipcode': 30434, 'Credit_Card': 3612614294719592}, {'City': 'Hartford', 'State': 'VT', 'Zipcode': 5047, 'Credit_Card': 3613345325704319}, {'City': 'Washington', 'State': 'NH', 'Zipcode': 3280, 'Credit_Card': 3616329710798175}, {'City': 'Williamsburg', 'State': 'MA', 'Zipcode': 1096, 'Credit_Card': 3658664738766077}, {'City': 'Dallas', 'State': 'PA', 'Zipcode': 18612, 'Credit_Card': 3662455495779947}, {'City': 'Los Angeles', 'State': 'CA', 'Zipcode': 90001, 'Credit_Card': 3677501628719542}, {'City': 'Oklahoma City', 'State': 'OK', 'Zipcode': 73101, 'Credit_Card': 3696717918927642}, {'City': 'Dover', 'State': 'MA', 'Zipcode': 2030, 'Credit_Card': 3702831934212129}, {'City': 'New York', 'State': 'NY', 'Zipcode': 10001, 'Credit_Card': 3707548197703686}, {'City': 'Charlotte', 'State': 'VT', 'Zipcode': 5445, 'Credit_Card': 3709941163857886}, {'City': 'Washington', 'State': 'NH', 'Zipcode': 3280, 'Credit_Card': 3714863719798369}, {'City': 'Greenville', 'State': 'RI', 'Zipcode': 2828, 'Credit_Card': 3731792856728063}, {'City': 'Washington', 'State': 'NH', 'Zipcode': 3280, 'Credit_Card': 3736320383919103}, {'City': 'Trenton', 'State': 'NJ', 'Zipcode': 8601, 'Credit_Card': 3738695168506613}, {'City': 'Washington', 'State': 'NH', 'Zipcode': 3280, 'Credit_Card': 3742680218482691}, {'City': 'New York', 'State': 'NY', 'Zipcode': 10001, 'Credit_Card': 3765967291056122}, {'City': 'Washington', 'State': 'NH', 'Zipcode': 3280, 'Credit_Card': 3769271071419194}, {'City': 'New York', 'State': 'NY', 'Zipcode': 10001, 'Credit_Card': 3787622376078564}, {'City': 'Fort Worth', 'State': 'TX', 'Zipcode': 76101, 'Credit_Card': 3801374660832282}, {'City': 'Seattle', 'State': 'WA', 'Zipcode': 98060, 'Credit_Card': 3805530354015938}, {'City': 'Washington', 'State': 'NH', 'Zipcode': 3280, 'Credit_Card': 3815394949163663}, {'City': 'Washington', 'State': 'NH', 'Zipcode': 3280, 'Credit_Card': 3817731837557664}, {'City': 'Washington', 'State': 'NH', 'Zipcode': 3280, 'Credit_Card': 3824313030996787}, {'City': 'San Francisco', 'State': 'CA', 'Zipcode': 94101, 'Credit_Card': 3831759517786458}, {'City': 'Mobile', 'State': 'AL', 'Zipcode': 36601, 'Credit_Card': 3836251327914201}, {'City': 'Milwaukee', 'State': 'NC', 'Zipcode': 27854, 'Credit_Card': 3846448423306515}, {'City': 'Washington', 'State': 'NH', 'Zipcode': 3280, 'Credit_Card': 3862898177506617}, {'City': 'Jamaica', 'State': 'VT', 'Zipcode': 5343, 'Credit_Card': 3870380583282871}, {'City': 'Cascade', 'State': 'MD', 'Zipcode': 21719, 'Credit_Card': 3877689042636086}, {'City': 'Chester', 'State': 'MA', 'Zipcode': 1011, 'Credit_Card': 3907281016803810}, {'City': 'Chicago', 'State': 'IL', 'Zipcode': 60290, 'Credit_Card': 3917492344376650}, {'City': 'Washington', 'State': 'NH', 'Zipcode': 3280, 'Credit_Card': 3924829195486659}, {'City': 'El Paso', 'State': 'IL', 'Zipcode': 61738, 'Credit_Card': 3951632727431524}, {'City': 'Albany', 'State': 'VT', 'Zipcode': 5820, 'Credit_Card': 3954565279762367}, {'City': 'Washington', 'State': 'NH', 'Zipcode': 3280, 'Credit_Card': 3966556370103795}, {'City': 'New York', 'State': 'NY', 'Zipcode': 10001, 'Credit_Card': 3970322957269847}, {'City': 'Dallas', 'State': 'PA', 'Zipcode': 18612, 'Credit_Card': 3972528153355730}, {'City': 'Washington', 'State': 'NH', 'Zipcode': 3280, 'Credit_Card': 3992365863289344}, {'City': 'Washington', 'State': 'NH', 'Zipcode': 3280, 'Credit_Card': 3999331922264962}, {'City': 'Oklahoma City', 'State': 'OK', 'Zipcode': 73101, 'Credit_Card': 4003356110638356}, {'City': 'Washington', 'State': 'NH', 'Zipcode': 3280, 'Credit_Card': 4008221261662791}, {'City': 'Washington', 'State': 'NH', 'Zipcode': 3280, 'Credit_Card': 4019546939071295}, {'City': 'Washington', 'State': 'NH', 'Zipcode': 3280, 'Credit_Card': 4025320586621760}, {'City': 'Washington', 'State': 'NH', 'Zipcode': 3280, 'Credit_Card': 4026696367506082}, {'City': 'Washington', 'State': 'NH', 'Zipcode': 3280, 'Credit_Card': 4027126453841428}, {'City': 'Washington', 'State': 'NH', 'Zipcode': 3280, 'Credit_Card': 4048301611162722}, {'City': 'Honolulu', 'State': 'HI', 'Zipcode': 96801, 'Credit_Card': 4060233054263467}, {'City': 'New York', 'State': 'NY', 'Zipcode': 10001, 'Credit_Card': 4063875032497374}, {'City': 'Birmingham', 'State': 'NJ', 'Zipcode': 8011, 'Credit_Card': 4101798991332958}, {'City': 'Springfield', 'State': 'MA', 'Zipcode': 1101, 'Credit_Card': 4114566748837655}, {'City': 'El Paso', 'State': 'IL', 'Zipcode': 61738, 'Credit_Card': 4140252840629305}, {'City': 'Springfield', 'State': 'MA', 'Zipcode': 1101, 'Credit_Card': 4141302078555386}, {'City': 'Washington', 'State': 'NH', 'Zipcode': 3280, 'Credit_Card': 4159662672178300}, {'City': 'Denver', 'State': 'NY', 'Zipcode': 12421, 'Credit_Card': 4171614982554774}, {'City': 'Portland', 'State': 'ME', 'Zipcode': 4101, 'Credit_Card': 4172354071638301}, {'City': 'New York', 'State': 'NY', 'Zipcode': 10001, 'Credit_Card': 4186963117247464}, {'City': 'Austin', 'State': 'PA', 'Zipcode': 16720, 'Credit_Card': 4213842418098364}, {'City': 'Washington', 'State': 'NH', 'Zipcode': 3280, 'Credit_Card': 4217808221875420}, {'City': 'Houston', 'State': 'PA', 'Zipcode': 15342, 'Credit_Card': 4222257296924178}, {'City': 'Washington', 'State': 'NH', 'Zipcode': 3280, 'Credit_Card': 4226229431544062}, {'City': 'Washington', 'State': 'NH', 'Zipcode': 3280, 'Credit_Card': 4232565960027650}, {'City': 'Columbia', 'State': 'CT', 'Zipcode': 6237, 'Credit_Card': 4233789026286017}, {'City': 'Houston', 'State': 'PA', 'Zipcode': 15342, 'Credit_Card': 4234505022072368}, {'City': 'Washington', 'State': 'NH', 'Zipcode': 3280, 'Credit_Card': 4235114373687107}, {'City': 'Omaha', 'State': 'GA', 'Zipcode': 31821, 'Credit_Card': 4251786088548131}, {'City': 'Houston', 'State': 'PA', 'Zipcode': 15342, 'Credit_Card': 4265201268681111}, {'City': 'Washington', 'State': 'NH', 'Zipcode': 3280, 'Credit_Card': 4270238553541882}, {'City': 'Washington', 'State': 'NH', 'Zipcode': 3280, 'Credit_Card': 4281752431928501}, {'City': 'Washington', 'State': 'NH', 'Zipcode': 3280, 'Credit_Card': 4282781825761856}, {'City': 'Dayton', 'State': 'NJ', 'Zipcode': 8810, 'Credit_Card': 4302633772248169}, {'City': 'Austin', 'State': 'PA', 'Zipcode': 16720, 'Credit_Card': 4309494627223049}, {'City': 'Washington', 'State': 'NH', 'Zipcode': 3280, 'Credit_Card': 4313788156475922}, {'City': 'Raleigh', 'State': 'WV', 'Zipcode': 25911, 'Credit_Card': 4320721997102152}, {'City': 'Houston', 'State': 'PA', 'Zipcode': 15342, 'Credit_Card': 4324769211499741}, {'City': 'Washington', 'State': 'NH', 'Zipcode': 3280, 'Credit_Card': 4333830558305665}, {'City': 'Miami', 'State': 'WV', 'Zipcode': 25134, 'Credit_Card': 4339853010378399}, {'City': 'Kansas City', 'State': 'MO', 'Zipcode': 64101, 'Credit_Card': 4341436577635619}, {'City': 'Lake City', 'State': 'PA', 'Zipcode': 16423, 'Credit_Card': 4356584115636738}, {'City': 'New York', 'State': 'NY', 'Zipcode': 10001, 'Credit_Card': 4386321242706043}, {'City': 'Dayton', 'State': 'NJ', 'Zipcode': 8810, 'Credit_Card': 4401901448192965}, {'City': 'Washington', 'State': 'NH', 'Zipcode': 3280, 'Credit_Card': 4403429977563696}, {'City': 'Philadelphia', 'State': 'NY', 'Zipcode': 13673, 'Credit_Card': 4439982514963965}, {'City': 'Akron', 'State': 'NY', 'Zipcode': 14001, 'Credit_Card': 4441810945214262}, {'City': 'Washington', 'State': 'NH', 'Zipcode': 3280, 'Credit_Card': 4496398325375529}, {'City': 'Houston', 'State': 'PA', 'Zipcode': 15342, 'Credit_Card': 4505833195983226}, {'City': 'Kansas City', 'State': 'MO', 'Zipcode': 64101, 'Credit_Card': 4513504763542143}, {'City': 'Washington', 'State': 'NH', 'Zipcode': 3280, 'Credit_Card': 4516569913607412}, {'City': 'Richmond', 'State': 'MA', 'Zipcode': 1254, 'Credit_Card': 4521667837475463}, {'City': 'Scranton', 'State': 'PA', 'Zipcode': 18501, 'Credit_Card': 4531548899489219}, {'City': 'Albany', 'State': 'VT', 'Zipcode': 5820, 'Credit_Card': 4539200319153652}, {'City': 'Houston', 'State': 'PA', 'Zipcode': 15342, 'Credit_Card': 4546345297067747}, {'City': 'Washington', 'State': 'NH', 'Zipcode': 3280, 'Credit_Card': 4564117045739728}, {'City': 'Washington', 'State': 'NH', 'Zipcode': 3280, 'Credit_Card': 4569281393242605}, {'City': 'Washington', 'State': 'NH', 'Zipcode': 3280, 'Credit_Card': 4570155620446594}, {'City': 'Washington', 'State': 'NH', 'Zipcode': 3280, 'Credit_Card': 4572984294472212}, {'City': 'Denver', 'State': 'NY', 'Zipcode': 12421, 'Credit_Card': 4616880410668126}, {'City': 'Washington', 'State': 'NH', 'Zipcode': 3280, 'Credit_Card': 4631597686439269}, {'City': 'Dallas', 'State': 'PA', 'Zipcode': 18612, 'Credit_Card': 4639173013775632}, {'City': 'Houston', 'State': 'PA', 'Zipcode': 15342, 'Credit_Card': 4662285575534520}, {'City': 'Washington', 'State': 'NH', 'Zipcode': 3280, 'Credit_Card': 4663577652761810}, {'City': 'Saint Paul', 'State': 'VA', 'Zipcode': 24283, 'Credit_Card': 4664185471467111}, {'City': 'Washington', 'State': 'NH', 'Zipcode': 3280, 'Credit_Card': 4666866933569419}, {'City': 'Sacramento', 'State': 'PA', 'Zipcode': 17968, 'Credit_Card': 4672118413151569}, {'City': 'Louisville', 'State': 'GA', 'Zipcode': 30434, 'Credit_Card': 4682464059155194}, {'City': 'San Diego', 'State': 'TX', 'Zipcode': 78384, 'Credit_Card': 4688258194581749}, {'City': 'Chicago', 'State': 'IL', 'Zipcode': 60290, 'Credit_Card': 4690759158535050}, {'City': 'Dallas', 'State': 'PA', 'Zipcode': 18612, 'Credit_Card': 4710393737306304}, {'City': 'Atlanta', 'State': 'NY', 'Zipcode': 14808, 'Credit_Card': 4718224894234489}, {'City': 'New York', 'State': 'NY', 'Zipcode': 10001, 'Credit_Card': 4722888325136251}, {'City': 'Washington', 'State': 'NH', 'Zipcode': 3280, 'Credit_Card': 4742690566857474}, {'City': 'Washington', 'State': 'NH', 'Zipcode': 3280, 'Credit_Card': 4744743520431714}, {'City': 'Washington', 'State': 'NH', 'Zipcode': 3280, 'Credit_Card': 4747886986038458}, {'City': 'Auburn', 'State': 'MA', 'Zipcode': 1501, 'Credit_Card': 4749889059323202}, {'City': 'Washington', 'State': 'NH', 'Zipcode': 3280, 'Credit_Card': 4755187966465702}, {'City': 'Washington', 'State': 'NH', 'Zipcode': 3280, 'Credit_Card': 4760865394229236}, {'City': 'Chicago', 'State': 'IL', 'Zipcode': 60290, 'Credit_Card': 4761149767499742}, {'City': 'Washington', 'State': 'NH', 'Zipcode': 3280, 'Credit_Card': 4766210145946696}, {'City': 'Cleveland', 'State': 'NY', 'Zipcode': 13042, 'Credit_Card': 4769264372531012}, {'City': 'Fresno', 'State': 'OH', 'Zipcode': 43824, 'Credit_Card': 4779104415243065}, {'City': 'Washington', 'State': 'NH', 'Zipcode': 3280, 'Credit_Card': 4780225344761787}, {'City': 'Aurora', 'State': 'ME', 'Zipcode': 4408, 'Credit_Card': 4787957227319660}, {'City': 'Houston', 'State': 'PA', 'Zipcode': 15342, 'Credit_Card': 4792676311859858}, {'City': 'Washington', 'State': 'NH', 'Zipcode': 3280, 'Credit_Card': 4795379267919800}, {'City': 'Washington', 'State': 'NH', 'Zipcode': 3280, 'Credit_Card': 4798124560973632}, {'City': 'Washington', 'State': 'NH', 'Zipcode': 3280, 'Credit_Card': 4832198644199161}, {'City': 'Dallas', 'State': 'PA', 'Zipcode': 18612, 'Credit_Card': 4833760023644511}, {'City': 'Washington', 'State': 'NH', 'Zipcode': 3280, 'Credit_Card': 4876614541242383}, {'City': 'Washington', 'State': 'NH', 'Zipcode': 3280, 'Credit_Card': 4893545347026703}, {'City': 'Washington', 'State': 'NH', 'Zipcode': 3280, 'Credit_Card': 4901899458549426}, {'City': 'Washington', 'State': 'NH', 'Zipcode': 3280, 'Credit_Card': 4931351520825852}, {'City': 'Houston', 'State': 'PA', 'Zipcode': 15342, 'Credit_Card': 4933910876032607}, {'City': 'Washington', 'State': 'NH', 'Zipcode': 3280, 'Credit_Card': 4936380626945447}, {'City': 'Washington', 'State': 'NH', 'Zipcode': 3280, 'Credit_Card': 4982870431606503}, {'City': 'Washington', 'State': 'NH', 'Zipcode': 3280, 'Credit_Card': 4993234579335307}, {'City': 'Houston', 'State': 'PA', 'Zipcode': 15342, 'Credit_Card': 5000268333411354}, {'City': 'Washington', 'State': 'NH', 'Zipcode': 3280, 'Credit_Card': 5013753958362344}, {'City': 'Madison', 'State': 'NH', 'Zipcode': 3849, 'Credit_Card': 5016712448423893}, {'City': 'Washington', 'State': 'NH', 'Zipcode': 3280, 'Credit_Card': 5022294487953183}, {'City': 'Washington', 'State': 'NH', 'Zipcode': 3280, 'Credit_Card': 5027662896498929}, {'City': 'Washington', 'State': 'NH', 'Zipcode': 3280, 'Credit_Card': 5046524059181009}, {'City': 'Monticello', 'State': 'ME', 'Zipcode': 4760, 'Credit_Card': 5059189477453448}, {'City': 'Dayton', 'State': 'NJ', 'Zipcode': 8810, 'Credit_Card': 5061349615705175}, {'City': 'Washington', 'State': 'NH', 'Zipcode': 3280, 'Credit_Card': 5073807444974852}, {'City': 'Cincinnati', 'State': 'OH', 'Zipcode': 45201, 'Credit_Card': 5079406362483117}, {'City': 'Washington', 'State': 'NH', 'Zipcode': 3280, 'Credit_Card': 5080999416077253}, {'City': 'Washington', 'State': 'NH', 'Zipcode': 3280, 'Credit_Card': 5098511582643613}, {'City': 'Washington', 'State': 'NH', 'Zipcode': 3280, 'Credit_Card': 5105236644344510}, {'City': 'Washington', 'State': 'NH', 'Zipcode': 3280, 'Credit_Card': 5132270021326600}, {'City': 'Washington', 'State': 'NH', 'Zipcode': 3280, 'Credit_Card': 5142934429645149}, {'City': 'Fort Worth', 'State': 'TX', 'Zipcode': 76101, 'Credit_Card': 5163439090127213}, {'City': 'Washington', 'State': 'NH', 'Zipcode': 3280, 'Credit_Card': 5167229387043743}, {'City': 'Houston', 'State': 'PA', 'Zipcode': 15342, 'Credit_Card': 5171595359553508}, {'City': 'Washington', 'State': 'NH', 'Zipcode': 3280, 'Credit_Card': 5175507030601876}, {'City': 'Fort Worth', 'State': 'TX', 'Zipcode': 76101, 'Credit_Card': 5177967593503491}, {'City': 'Rochester', 'State': 'MA', 'Zipcode': 2770, 'Credit_Card': 5178912386959057}, {'City': 'Albany', 'State': 'VT', 'Zipcode': 5820, 'Credit_Card': 5179741011136232}, {'City': 'Washington', 'State': 'NH', 'Zipcode': 3280, 'Credit_Card': 5193447888327490}, {'City': 'Houston', 'State': 'PA', 'Zipcode': 15342, 'Credit_Card': 5201123369816877}, {'City': 'Washington', 'State': 'NH', 'Zipcode': 3280, 'Credit_Card': 5208989390764870}, {'City': 'Washington', 'State': 'NH', 'Zipcode': 3280, 'Credit_Card': 5213801443993459}, {'City': 'Washington', 'State': 'NH', 'Zipcode': 3280, 'Credit_Card': 5228380053135598}, {'City': 'Houston', 'State': 'PA', 'Zipcode': 15342, 'Credit_Card': 5229488282763963}, {'City': 'Washington', 'State': 'NH', 'Zipcode': 3280, 'Credit_Card': 5247358861329350}, {'City': 'Washington', 'State': 'NH', 'Zipcode': 3280, 'Credit_Card': 5255734714016352}, {'City': 'Houston', 'State': 'PA', 'Zipcode': 15342, 'Credit_Card': 5275410446848007}, {'City': 'Honolulu', 'State': 'HI', 'Zipcode': 96801, 'Credit_Card': 5285935774074579}, {'City': 'Dallas', 'State': 'PA', 'Zipcode': 18612, 'Credit_Card': 5286504827011372}, {'City': 'Saint Louis', 'State': 'MI', 'Zipcode': 48880, 'Credit_Card': 5290774753899753}, {'City': 'Washington', 'State': 'NH', 'Zipcode': 3280, 'Credit_Card': 5292968988475633}, {'City': 'Washington', 'State': 'NH', 'Zipcode': 3280, 'Credit_Card': 5293204730208718}, {'City': 'Washington', 'State': 'NH', 'Zipcode': 3280, 'Credit_Card': 5308904973935901}, {'City': 'Houston', 'State': 'PA', 'Zipcode': 15342, 'Credit_Card': 5320791639135601}, {'City': 'Washington', 'State': 'NH', 'Zipcode': 3280, 'Credit_Card': 5339470339859139}, {'City': 'New York', 'State': 'NY', 'Zipcode': 10001, 'Credit_Card': 5342740779739467}, {'City': 'Orlando', 'State': 'WV', 'Zipcode': 26412, 'Credit_Card': 5353425661157701}, {'City': 'Washington', 'State': 'NH', 'Zipcode': 3280, 'Credit_Card': 5356282040111031}, {'City': 'Hartford', 'State': 'VT', 'Zipcode': 5047, 'Credit_Card': 5365966946601761}, {'City': 'San Francisco', 'State': 'CA', 'Zipcode': 94101, 'Credit_Card': 5389746962267460}, {'City': 'Washington', 'State': 'NH', 'Zipcode': 3280, 'Credit_Card': 5405790922747020}, {'City': 'Washington', 'State': 'NH', 'Zipcode': 3280, 'Credit_Card': 5426980759755351}, {'City': 'Pittsburgh', 'State': 'PA', 'Zipcode': 15201, 'Credit_Card': 5427757726611889}, {'City': 'Louisville', 'State': 'GA', 'Zipcode': 30434, 'Credit_Card': 5433491746431814}, {'City': 'Los Angeles', 'State': 'CA', 'Zipcode': 90001, 'Credit_Card': 5446645498913605}, {'City': 'Washington', 'State': 'NH', 'Zipcode': 3280, 'Credit_Card': 5453745952738769}, {'City': 'Memphis', 'State': 'NY', 'Zipcode': 13112, 'Credit_Card': 5458162124475323}, {'City': 'Madison', 'State': 'NH', 'Zipcode': 3849, 'Credit_Card': 5468123853913421}, {'City': 'San Diego', 'State': 'TX', 'Zipcode': 78384, 'Credit_Card': 5514508235368997}, {'City': 'Washington', 'State': 'NH', 'Zipcode': 3280, 'Credit_Card': 5527951937235136}, {'City': 'Jackson', 'State': 'NH', 'Zipcode': 3846, 'Credit_Card': 5533884728934194}, {'City': 'Dallas', 'State': 'PA', 'Zipcode': 18612, 'Credit_Card': 5537697283153819}, {'City': 'New York', 'State': 'NY', 'Zipcode': 10001, 'Credit_Card': 5552770653002916}, {'City': 'Washington', 'State': 'NH', 'Zipcode': 3280, 'Credit_Card': 5577483128229669}, {'City': 'Springfield', 'State': 'MA', 'Zipcode': 1101, 'Credit_Card': 5609767247461337}, {'City': 'Washington', 'State': 'NH', 'Zipcode': 3280, 'Credit_Card': 5617658887579781}, {'City': 'Denver', 'State': 'NY', 'Zipcode': 12421, 'Credit_Card': 5644143320838397}, {'City': 'Washington', 'State': 'NH', 'Zipcode': 3280, 'Credit_Card': 5654948589485821}, {'City': 'Cleveland', 'State': 'NY', 'Zipcode': 13042, 'Credit_Card': 5659288348108211}, {'City': 'El Paso', 'State': 'IL', 'Zipcode': 61738, 'Credit_Card': 5661819269445876}, {'City': 'Washington', 'State': 'NH', 'Zipcode': 3280, 'Credit_Card': 5662926915287941}, {'City': 'Miami', 'State': 'WV', 'Zipcode': 25134, 'Credit_Card': 5664450038929347}, {'City': 'Washington', 'State': 'NH', 'Zipcode': 3280, 'Credit_Card': 5666241810779885}, {'City': 'Washington', 'State': 'NH', 'Zipcode': 3280, 'Credit_Card': 5667345463662229}, {'City': 'Washington', 'State': 'NH', 'Zipcode': 3280, 'Credit_Card': 5671348187096692}, {'City': 'Hartford', 'State': 'VT', 'Zipcode': 5047, 'Credit_Card': 5684510881502693}, {'City': 'Mobile', 'State': 'AL', 'Zipcode': 36601, 'Credit_Card': 5686317975615926}, {'City': 'Washington', 'State': 'NH', 'Zipcode': 3280, 'Credit_Card': 5697145338404683}, {'City': 'El Paso', 'State': 'IL', 'Zipcode': 61738, 'Credit_Card': 5700924993541613}, {'City': 'Washington', 'State': 'NH', 'Zipcode': 3280, 'Credit_Card': 5709824612342078}, {'City': 'Washington', 'State': 'NH', 'Zipcode': 3280, 'Credit_Card': 5717872686412990}, {'City': 'Troy', 'State': 'NH', 'Zipcode': 3465, 'Credit_Card': 5721265318199034}, {'City': 'Young America', 'State': 'IN', 'Zipcode': 46998, 'Credit_Card': 5730606033377949}, {'City': 'New York', 'State': 'NY', 'Zipcode': 10001, 'Credit_Card': 5759828179208154}, {'City': 'Kansas City', 'State': 'MO', 'Zipcode': 64101, 'Credit_Card': 5762108118035491}, {'City': 'Saint Paul', 'State': 'VA', 'Zipcode': 24283, 'Credit_Card': 5766495283121226}, {'City': 'Washington', 'State': 'NH', 'Zipcode': 3280, 'Credit_Card': 5780268975765473}, {'City': 'Washington', 'State': 'NH', 'Zipcode': 3280, 'Credit_Card': 5783648852115715}, {'City': 'Washington', 'State': 'NH', 'Zipcode': 3280, 'Credit_Card': 5784686375395380}, {'City': 'Chicago', 'State': 'IL', 'Zipcode': 60290, 'Credit_Card': 5790900556949261}, {'City': 'Houston', 'State': 'PA', 'Zipcode': 15342, 'Credit_Card': 5798102379533575}, {'City': 'Houston', 'State': 'PA', 'Zipcode': 15342, 'Credit_Card': 5808568142475251}, {'City': 'Houston', 'State': 'PA', 'Zipcode': 15342, 'Credit_Card': 5814955316793393}, {'City': 'Washington', 'State': 'NH', 'Zipcode': 3280, 'Credit_Card': 5827454659596708}, {'City': 'Orlando', 'State': 'WV', 'Zipcode': 26412, 'Credit_Card': 5828448317363869}, {'City': 'Hillsboro', 'State': 'NH', 'Zipcode': 3244, 'Credit_Card': 5836753091038481}, {'City': 'Atlanta', 'State': 'NY', 'Zipcode': 14808, 'Credit_Card': 5849111629036386}, {'City': 'Washington', 'State': 'NH', 'Zipcode': 3280, 'Credit_Card': 5862371394578648}, {'City': 'Washington', 'State': 'NH', 'Zipcode': 3280, 'Credit_Card': 5864242444135997}, {'City': 'Charlotte', 'State': 'VT', 'Zipcode': 5445, 'Credit_Card': 5872602762998578}, {'City': 'Sacramento', 'State': 'PA', 'Zipcode': 17968, 'Credit_Card': 5876686859794608}, {'City': 'El Paso', 'State': 'IL', 'Zipcode': 61738, 'Credit_Card': 5891245628237787}, {'City': 'Washington', 'State': 'NH', 'Zipcode': 3280, 'Credit_Card': 5918282832042862}, {'City': 'Chicago', 'State': 'IL', 'Zipcode': 60290, 'Credit_Card': 5924922891293495}, {'City': 'Washington', 'State': 'NH', 'Zipcode': 3280, 'Credit_Card': 5929569085404951}, {'City': 'El Paso', 'State': 'IL', 'Zipcode': 61738, 'Credit_Card': 5930630722779265}, {'City': 'Saint Louis', 'State': 'MI', 'Zipcode': 48880, 'Credit_Card': 5948940271342611}, {'City': 'El Paso', 'State': 'IL', 'Zipcode': 61738, 'Credit_Card': 5960629082676983}, {'City': 'Washington', 'State': 'NH', 'Zipcode': 3280, 'Credit_Card': 5961248174929633}, {'City': 'Tampa', 'State': 'FL', 'Zipcode': 33601, 'Credit_Card': 5993120257934794}, {'City': 'Washington', 'State': 'NH', 'Zipcode': 3280, 'Credit_Card': 5999629725471339}, {'City': 'Washington', 'State': 'NH', 'Zipcode': 3280, 'Credit_Card': 6013984457072930}, {'City': 'Jacksonville', 'State': 'VT', 'Zipcode': 5342, 'Credit_Card': 6049616542527821}, {'City': 'Washington', 'State': 'NH', 'Zipcode': 3280, 'Credit_Card': 6058125552802074}, {'City': 'Portland', 'State': 'ME', 'Zipcode': 4101, 'Credit_Card': 6063334769611138}, {'City': 'Los Angeles', 'State': 'CA', 'Zipcode': 90001, 'Credit_Card': 6075288092815423}, {'City': 'Washington', 'State': 'NH', 'Zipcode': 3280, 'Credit_Card': 6120484619552052}, {'City': 'Washington', 'State': 'NH', 'Zipcode': 3280, 'Credit_Card': 6125797751768025}, {'City': 'Columbus', 'State': 'NJ', 'Zipcode': 8022, 'Credit_Card': 6154164379665055}, {'City': 'Boston', 'State': 'MA', 'Zipcode': 2101, 'Credit_Card': 6160860237001016}, {'City': 'Washington', 'State': 'NH', 'Zipcode': 3280, 'Credit_Card': 6161580285936095}, {'City': 'Washington', 'State': 'NH', 'Zipcode': 3280, 'Credit_Card': 6162758085256721}, {'City': 'Houston', 'State': 'PA', 'Zipcode': 15342, 'Credit_Card': 6186951577719336}, {'City': 'Washington', 'State': 'NH', 'Zipcode': 3280, 'Credit_Card': 6201975636402458}, {'City': 'Portland', 'State': 'ME', 'Zipcode': 4101, 'Credit_Card': 6202290276245949}, {'City': 'Dallas', 'State': 'PA', 'Zipcode': 18612, 'Credit_Card': 6205219558117674}, {'City': 'Springfield', 'State': 'MA', 'Zipcode': 1101, 'Credit_Card': 6214915371897876}, {'City': 'Pittsburgh', 'State': 'PA', 'Zipcode': 15201, 'Credit_Card': 6216751190381521}, {'City': 'Madison', 'State': 'NH', 'Zipcode': 3849, 'Credit_Card': 6219238634336382}, {'City': 'Springfield', 'State': 'MA', 'Zipcode': 1101, 'Credit_Card': 6225921585766163}, {'City': 'Atlanta', 'State': 'NY', 'Zipcode': 14808, 'Credit_Card': 6235292123992652}, {'City': 'Louisville', 'State': 'GA', 'Zipcode': 30434, 'Credit_Card': 6239589776969686}, {'City': 'Houston', 'State': 'PA', 'Zipcode': 15342, 'Credit_Card': 6244656436085734}, {'City': 'Dallas', 'State': 'PA', 'Zipcode': 18612, 'Credit_Card': 6245684915925010}, {'City': 'Oklahoma City', 'State': 'OK', 'Zipcode': 73101, 'Credit_Card': 6256736424616777}, {'City': 'Sacramento', 'State': 'PA', 'Zipcode': 17968, 'Credit_Card': 6266705123601799}, {'City': 'Dallas', 'State': 'PA', 'Zipcode': 18612, 'Credit_Card': 6270963060103806}, {'City': 'Washington', 'State': 'NH', 'Zipcode': 3280, 'Credit_Card': 6286633870767123}, {'City': 'Houston', 'State': 'PA', 'Zipcode': 15342, 'Credit_Card': 6287151117146988}, {'City': 'Washington', 'State': 'NH', 'Zipcode': 3280, 'Credit_Card': 6295994752468225}, {'City': 'New York', 'State': 'NY', 'Zipcode': 10001, 'Credit_Card': 6303154567927815}, {'City': 'Washington', 'State': 'NH', 'Zipcode': 3280, 'Credit_Card': 6310725288144157}, {'City': 'Columbia', 'State': 'CT', 'Zipcode': 6237, 'Credit_Card': 6319530478989228}, {'City': 'Washington', 'State': 'NH', 'Zipcode': 3280, 'Credit_Card': 6325419957422105}, {'City': 'Indianapolis', 'State': 'IN', 'Zipcode': 46201, 'Credit_Card': 6379790667727929}, {'City': 'Chicago', 'State': 'IL', 'Zipcode': 60290, 'Credit_Card': 6388959096068998}, {'City': 'Washington', 'State': 'NH', 'Zipcode': 3280, 'Credit_Card': 6404482075284890}, {'City': 'Houston', 'State': 'PA', 'Zipcode': 15342, 'Credit_Card': 6422651895848072}, {'City': 'Springfield', 'State': 'MA', 'Zipcode': 1101, 'Credit_Card': 6423417855132625}, {'City': 'Raleigh', 'State': 'WV', 'Zipcode': 25911, 'Credit_Card': 6455247676775228}, {'City': 'Las Vegas', 'State': 'NM', 'Zipcode': 87701, 'Credit_Card': 6465194079012865}, {'City': 'Boise', 'State': 'ID', 'Zipcode': 83701, 'Credit_Card': 6480602940038149}, {'City': 'Washington', 'State': 'NH', 'Zipcode': 3280, 'Credit_Card': 6483234875464386}, {'City': 'Washington', 'State': 'NH', 'Zipcode': 3280, 'Credit_Card': 6488510088679104}, {'City': 'Washington', 'State': 'NH', 'Zipcode': 3280, 'Credit_Card': 6495847936021430}, {'City': 'Washington', 'State': 'NH', 'Zipcode': 3280, 'Credit_Card': 6499168840378342}, {'City': 'San Francisco', 'State': 'CA', 'Zipcode': 94101, 'Credit_Card': 6514175342145589}, {'City': 'Washington', 'State': 'NH', 'Zipcode': 3280, 'Credit_Card': 6515359867298603}, {'City': 'Madison', 'State': 'NH', 'Zipcode': 3849, 'Credit_Card': 6521271718368276}, {'City': 'Sacramento', 'State': 'PA', 'Zipcode': 17968, 'Credit_Card': 6596857396468224}, {'City': 'San Antonio', 'State': 'PR', 'Zipcode': 690, 'Credit_Card': 6598829254424957}, {'City': 'Chicago', 'State': 'IL', 'Zipcode': 60290, 'Credit_Card': 6615733467016631}, {'City': 'Charlotte', 'State': 'VT', 'Zipcode': 5445, 'Credit_Card': 6631838888901006}, {'City': 'Dallas', 'State': 'PA', 'Zipcode': 18612, 'Credit_Card': 6636937316963132}, {'City': 'Houston', 'State': 'PA', 'Zipcode': 15342, 'Credit_Card': 6640710366086702}, {'City': 'Washington', 'State': 'NH', 'Zipcode': 3280, 'Credit_Card': 6661995519399289}, {'City': 'Shreveport', 'State': 'LA', 'Zipcode': 71101, 'Credit_Card': 6667627884219652}, {'City': 'Vallejo', 'State': 'CA', 'Zipcode': 94589, 'Credit_Card': 6698437277931525}, {'City': 'Washington', 'State': 'NH', 'Zipcode': 3280, 'Credit_Card': 6702862097534967}, {'City': 'Houston', 'State': 'PA', 'Zipcode': 15342, 'Credit_Card': 6703587278204507}, {'City': 'New York', 'State': 'NY', 'Zipcode': 10001, 'Credit_Card': 6714811165769097}, {'City': 'Washington', 'State': 'NH', 'Zipcode': 3280, 'Credit_Card': 6732485122573267}, {'City': 'Austin', 'State': 'PA', 'Zipcode': 16720, 'Credit_Card': 6744701624115884}, {'City': 'San Diego', 'State': 'TX', 'Zipcode': 78384, 'Credit_Card': 6748216777495177}, {'City': 'Washington', 'State': 'NH', 'Zipcode': 3280, 'Credit_Card': 6776904214455240}, {'City': 'Washington', 'State': 'NH', 'Zipcode': 3280, 'Credit_Card': 6780209767452752}, {'City': 'Washington', 'State': 'NH', 'Zipcode': 3280, 'Credit_Card': 6804279646781269}, {'City': 'El Paso', 'State': 'IL', 'Zipcode': 61738, 'Credit_Card': 6806677056951330}, {'City': 'Dallas', 'State': 'PA', 'Zipcode': 18612, 'Credit_Card': 6819174647393472}, {'City': 'Washington', 'State': 'NH', 'Zipcode': 3280, 'Credit_Card': 6841733273104926}, {'City': 'Washington', 'State': 'NH', 'Zipcode': 3280, 'Credit_Card': 6849482510053541}, {'City': 'El Paso', 'State': 'IL', 'Zipcode': 61738, 'Credit_Card': 6863464532297009}, {'City': 'Garden Grove', 'State': 'IA', 'Zipcode': 50103, 'Credit_Card': 6873200773836131}, {'City': 'Washington', 'State': 'NH', 'Zipcode': 3280, 'Credit_Card': 6891610450164077}, {'City': 'Washington', 'State': 'NH', 'Zipcode': 3280, 'Credit_Card': 6898559558056681}, {'City': 'Trenton', 'State': 'NJ', 'Zipcode': 8601, 'Credit_Card': 6933786855515871}, {'City': 'Washington', 'State': 'NH', 'Zipcode': 3280, 'Credit_Card': 6935346241885581}, {'City': 'Washington', 'State': 'NH', 'Zipcode': 3280, 'Credit_Card': 6938265066782069}, {'City': 'Kansas City', 'State': 'MO', 'Zipcode': 64101, 'Credit_Card': 6945217470076371}, {'City': 'Phoenix', 'State': 'NY', 'Zipcode': 13135, 'Credit_Card': 6959222140366866}, {'City': 'Houston', 'State': 'PA', 'Zipcode': 15342, 'Credit_Card': 6962185392737245}, {'City': 'Austin', 'State': 'PA', 'Zipcode': 16720, 'Credit_Card': 6975663682594960}, {'City': 'Washington', 'State': 'NH', 'Zipcode': 3280, 'Credit_Card': 6988573032633097}, {'City': 'Spokane', 'State': 'MO', 'Zipcode': 65754, 'Credit_Card': 7009880545491603}, {'City': 'Cincinnati', 'State': 'OH', 'Zipcode': 45201, 'Credit_Card': 7011626867998686}, {'City': 'Washington', 'State': 'NH', 'Zipcode': 3280, 'Credit_Card': 7030584443306096}, {'City': 'New York', 'State': 'NY', 'Zipcode': 10001, 'Credit_Card': 7036919029144120}, {'City': 'Washington', 'State': 'NH', 'Zipcode': 3280, 'Credit_Card': 7045277863044303}, {'City': 'New York', 'State': 'NY', 'Zipcode': 10001, 'Credit_Card': 7053196367895112}, {'City': 'El Paso', 'State': 'IL', 'Zipcode': 61738, 'Credit_Card': 7059627552446649}, {'City': 'Washington', 'State': 'NH', 'Zipcode': 3280, 'Credit_Card': 7062171597079225}, {'City': 'Washington', 'State': 'NH', 'Zipcode': 3280, 'Credit_Card': 7081424943873587}, {'City': 'El Paso', 'State': 'IL', 'Zipcode': 61738, 'Credit_Card': 7087720787493988}, {'City': 'Dallas', 'State': 'PA', 'Zipcode': 18612, 'Credit_Card': 7096354853697942}, {'City': 'Houston', 'State': 'PA', 'Zipcode': 15342, 'Credit_Card': 7102237366403671}, {'City': 'Los Angeles', 'State': 'CA', 'Zipcode': 90001, 'Credit_Card': 7103682245071504}, {'City': 'New Orleans', 'State': 'LA', 'Zipcode': 70112, 'Credit_Card': 7115509751643442}, {'City': 'Washington', 'State': 'NH', 'Zipcode': 3280, 'Credit_Card': 7126435777387607}, {'City': 'El Paso', 'State': 'IL', 'Zipcode': 61738, 'Credit_Card': 7131626365886872}, {'City': 'Washington', 'State': 'NH', 'Zipcode': 3280, 'Credit_Card': 7142411144219620}, {'City': 'Tucson', 'State': 'AZ', 'Zipcode': 85701, 'Credit_Card': 7180893798762595}, {'City': 'Washington', 'State': 'NH', 'Zipcode': 3280, 'Credit_Card': 7186723485093836}, {'City': 'New York', 'State': 'NY', 'Zipcode': 10001, 'Credit_Card': 7193900293112316}, {'City': 'Greensboro', 'State': 'VT', 'Zipcode': 5841, 'Credit_Card': 7195601645654041}, {'City': 'Memphis', 'State': 'NY', 'Zipcode': 13112, 'Credit_Card': 7200349472931713}, {'City': 'Sacramento', 'State': 'PA', 'Zipcode': 17968, 'Credit_Card': 7239424032193412}, {'City': 'Charleston', 'State': 'ME', 'Zipcode': 4422, 'Credit_Card': 7246108290515977}, {'City': 'Washington', 'State': 'NH', 'Zipcode': 3280, 'Credit_Card': 7253140926151893}, {'City': 'Huntsville', 'State': 'AL', 'Zipcode': 35801, 'Credit_Card': 7285338329726630}, {'City': 'Houston', 'State': 'PA', 'Zipcode': 15342, 'Credit_Card': 7304413635737386}, {'City': 'Washington', 'State': 'NH', 'Zipcode': 3280, 'Credit_Card': 7314396346539895}, {'City': 'El Paso', 'State': 'IL', 'Zipcode': 61738, 'Credit_Card': 7325119954636745}, {'City': 'Miami', 'State': 'WV', 'Zipcode': 25134, 'Credit_Card': 7334481986999944}, {'City': 'Cincinnati', 'State': 'OH', 'Zipcode': 45201, 'Credit_Card': 7344275932115101}, {'City': 'Springfield', 'State': 'MA', 'Zipcode': 1101, 'Credit_Card': 7350222978998674}, {'City': 'Houston', 'State': 'PA', 'Zipcode': 15342, 'Credit_Card': 7356547139163401}, {'City': 'Washington', 'State': 'NH', 'Zipcode': 3280, 'Credit_Card': 7429421121062150}, {'City': 'Jacksonville', 'State': 'VT', 'Zipcode': 5342, 'Credit_Card': 7446346770123339}, {'City': 'Las Vegas', 'State': 'NM', 'Zipcode': 87701, 'Credit_Card': 7452262324088889}, {'City': 'Jackson', 'State': 'NH', 'Zipcode': 3846, 'Credit_Card': 7461673920587452}, {'City': 'Washington', 'State': 'NH', 'Zipcode': 3280, 'Credit_Card': 7470859729993000}, {'City': 'Washington', 'State': 'NH', 'Zipcode': 3280, 'Credit_Card': 7479546374341294}, {'City': 'Birmingham', 'State': 'NJ', 'Zipcode': 8011, 'Credit_Card': 7482288151831611}, {'City': 'Washington', 'State': 'NH', 'Zipcode': 3280, 'Credit_Card': 7489457910592208}, {'City': 'Washington', 'State': 'NH', 'Zipcode': 3280, 'Credit_Card': 7493277950441213}, {'City': 'Washington', 'State': 'NH', 'Zipcode': 3280, 'Credit_Card': 7506181666311196}, {'City': 'El Paso', 'State': 'IL', 'Zipcode': 61738, 'Credit_Card': 7509272878525535}, {'City': 'Austin', 'State': 'PA', 'Zipcode': 16720, 'Credit_Card': 7524708568363224}, {'City': 'Washington', 'State': 'NH', 'Zipcode': 3280, 'Credit_Card': 7528857656894738}, {'City': 'Washington', 'State': 'NH', 'Zipcode': 3280, 'Credit_Card': 7544799337394642}, {'City': 'Miami', 'State': 'WV', 'Zipcode': 25134, 'Credit_Card': 7553474181965140}, {'City': 'Houston', 'State': 'PA', 'Zipcode': 15342, 'Credit_Card': 7578127974417334}, {'City': 'Richmond', 'State': 'MA', 'Zipcode': 1254, 'Credit_Card': 7596392338837497}, {'City': 'Columbia', 'State': 'CT', 'Zipcode': 6237, 'Credit_Card': 7598247814165987}, {'City': 'Orlando', 'State': 'WV', 'Zipcode': 26412, 'Credit_Card': 7623592082548014}, {'City': 'San Jose', 'State': 'IL', 'Zipcode': 62682, 'Credit_Card': 7628993515975118}, {'City': 'Boise', 'State': 'ID', 'Zipcode': 83701, 'Credit_Card': 7636362072432217}, {'City': 'New York', 'State': 'NY', 'Zipcode': 10001, 'Credit_Card': 7640392875963406}, {'City': 'Rochester', 'State': 'MA', 'Zipcode': 2770, 'Credit_Card': 7642492194434148}, {'City': 'Hartford', 'State': 'VT', 'Zipcode': 5047, 'Credit_Card': 7646245348474631}, {'City': 'Seattle', 'State': 'WA', 'Zipcode': 98060, 'Credit_Card': 7649237198931106}, {'City': 'Washington', 'State': 'NH', 'Zipcode': 3280, 'Credit_Card': 7651566467203216}, {'City': 'Washington', 'State': 'NH', 'Zipcode': 3280, 'Credit_Card': 7685625385316960}, {'City': 'Washington', 'State': 'NH', 'Zipcode': 3280, 'Credit_Card': 7687658687382923}, {'City': 'Dallas', 'State': 'PA', 'Zipcode': 18612, 'Credit_Card': 7688291064116663}, {'City': 'Washington', 'State': 'NH', 'Zipcode': 3280, 'Credit_Card': 7700703753605708}, {'City': 'Washington', 'State': 'NH', 'Zipcode': 3280, 'Credit_Card': 7707617017326022}, {'City': 'Washington', 'State': 'NH', 'Zipcode': 3280, 'Credit_Card': 7710564188096682}, {'City': 'Cincinnati', 'State': 'OH', 'Zipcode': 45201, 'Credit_Card': 7711805422759137}, {'City': 'Birmingham', 'State': 'NJ', 'Zipcode': 8011, 'Credit_Card': 7716741324008377}, {'City': 'San Francisco', 'State': 'CA', 'Zipcode': 94101, 'Credit_Card': 7728317158402059}, {'City': 'Houston', 'State': 'PA', 'Zipcode': 15342, 'Credit_Card': 7736882353171315}, {'City': 'San Antonio', 'State': 'PR', 'Zipcode': 690, 'Credit_Card': 7745651081413913}, {'City': 'Houston', 'State': 'PA', 'Zipcode': 15342, 'Credit_Card': 7757977389711023}, {'City': 'Washington', 'State': 'NH', 'Zipcode': 3280, 'Credit_Card': 7765780560269150}, {'City': 'Portland', 'State': 'ME', 'Zipcode': 4101, 'Credit_Card': 7768299333443860}, {'City': 'Fort Wayne', 'State': 'IN', 'Zipcode': 46801, 'Credit_Card': 7769265222348528}, {'City': 'New York', 'State': 'NY', 'Zipcode': 10001, 'Credit_Card': 7781508495272974}, {'City': 'Washington', 'State': 'NH', 'Zipcode': 3280, 'Credit_Card': 7785144321913880}, {'City': 'New York', 'State': 'NY', 'Zipcode': 10001, 'Credit_Card': 7787919251739915}, {'City': 'New Haven', 'State': 'VT', 'Zipcode': 5472, 'Credit_Card': 7794694461432561}, {'City': 'Washington', 'State': 'NH', 'Zipcode': 3280, 'Credit_Card': 7798370940858637}, {'City': 'Springfield', 'State': 'MA', 'Zipcode': 1101, 'Credit_Card': 7802709536607734}, {'City': 'Los Angeles', 'State': 'CA', 'Zipcode': 90001, 'Credit_Card': 7804216189681274}, {'City': 'Pasadena', 'State': 'MD', 'Zipcode': 21122, 'Credit_Card': 7809589434909452}, {'City': 'Sacramento', 'State': 'PA', 'Zipcode': 17968, 'Credit_Card': 7811700299325879}, {'City': 'Jackson', 'State': 'NH', 'Zipcode': 3846, 'Credit_Card': 7831664021861519}, {'City': 'Houston', 'State': 'PA', 'Zipcode': 15342, 'Credit_Card': 7838554896273468}, {'City': 'Washington', 'State': 'NH', 'Zipcode': 3280, 'Credit_Card': 7862780183667956}, {'City': 'Washington', 'State': 'NH', 'Zipcode': 3280, 'Credit_Card': 7869254138083290}, {'City': 'Washington', 'State': 'NH', 'Zipcode': 3280, 'Credit_Card': 7874281252875041}, {'City': 'Washington', 'State': 'NH', 'Zipcode': 3280, 'Credit_Card': 7877869810457796}, {'City': 'El Paso', 'State': 'IL', 'Zipcode': 61738, 'Credit_Card': 7898918688943986}, {'City': 'Sacramento', 'State': 'PA', 'Zipcode': 17968, 'Credit_Card': 7916370876622524}, {'City': 'Washington', 'State': 'NH', 'Zipcode': 3280, 'Credit_Card': 7927809297669234}, {'City': 'El Paso', 'State': 'IL', 'Zipcode': 61738, 'Credit_Card': 7930309756035775}, {'City': 'Washington', 'State': 'NH', 'Zipcode': 3280, 'Credit_Card': 7961700524971531}, {'City': 'Houston', 'State': 'PA', 'Zipcode': 15342, 'Credit_Card': 7962835535781875}, {'City': 'Washington', 'State': 'NH', 'Zipcode': 3280, 'Credit_Card': 7968925716431446}, {'City': 'Austin', 'State': 'PA', 'Zipcode': 16720, 'Credit_Card': 7996607928053715}, {'City': 'Washington', 'State': 'NH', 'Zipcode': 3280, 'Credit_Card': 8010549689039719}, {'City': 'Philadelphia', 'State': 'NY', 'Zipcode': 13673, 'Credit_Card': 8011569676936865}, {'City': 'Washington', 'State': 'NH', 'Zipcode': 3280, 'Credit_Card': 8013107372772424}, {'City': 'Phoenix', 'State': 'NY', 'Zipcode': 13135, 'Credit_Card': 8028935620354401}, {'City': 'Washington', 'State': 'NH', 'Zipcode': 3280, 'Credit_Card': 8032811535391112}, {'City': 'Washington', 'State': 'NH', 'Zipcode': 3280, 'Credit_Card': 8035759955465736}, {'City': 'New York', 'State': 'NY', 'Zipcode': 10001, 'Credit_Card': 8089806479424934}, {'City': 'Washington', 'State': 'NH', 'Zipcode': 3280, 'Credit_Card': 8108798437651256}, {'City': 'San Antonio', 'State': 'PR', 'Zipcode': 690, 'Credit_Card': 8123289635641903}, {'City': 'Washington', 'State': 'NH', 'Zipcode': 3280, 'Credit_Card': 8137811493121777}, {'City': 'Atlanta', 'State': 'NY', 'Zipcode': 14808, 'Credit_Card': 8152578549627680}, {'City': 'Akron', 'State': 'NY', 'Zipcode': 14001, 'Credit_Card': 8162218322673975}, {'City': 'Houston', 'State': 'PA', 'Zipcode': 15342, 'Credit_Card': 8185822588605701}, {'City': 'Houston', 'State': 'PA', 'Zipcode': 15342, 'Credit_Card': 8186338691607752}, {'City': 'El Paso', 'State': 'IL', 'Zipcode': 61738, 'Credit_Card': 8197260029891556}, {'City': 'Las Vegas', 'State': 'NM', 'Zipcode': 87701, 'Credit_Card': 8210265648016159}, {'City': 'Topeka', 'State': 'IN', 'Zipcode': 46571, 'Credit_Card': 8221913653327075}, {'City': 'Fort Lauderdale', 'State': 'FL', 'Zipcode': 33301, 'Credit_Card': 8236301184896933}, {'City': 'San Antonio', 'State': 'PR', 'Zipcode': 690, 'Credit_Card': 8239191573771235}, {'City': 'Long Beach', 'State': 'NY', 'Zipcode': 11561, 'Credit_Card': 8246842555809242}, {'City': 'Omaha', 'State': 'GA', 'Zipcode': 31821, 'Credit_Card': 8259854075192493}, {'City': 'Dallas', 'State': 'PA', 'Zipcode': 18612, 'Credit_Card': 8290434690016513}, {'City': 'Washington', 'State': 'NH', 'Zipcode': 3280, 'Credit_Card': 8295403590944723}, {'City': 'Washington', 'State': 'NH', 'Zipcode': 3280, 'Credit_Card': 8308288662905313}, {'City': 'Richmond', 'State': 'MA', 'Zipcode': 1254, 'Credit_Card': 8319213328536757}, {'City': 'Memphis', 'State': 'NY', 'Zipcode': 13112, 'Credit_Card': 8320217550615334}, {'City': 'Salt Lake City', 'State': 'UT', 'Zipcode': 84101, 'Credit_Card': 8325153881531522}, {'City': 'New York', 'State': 'NY', 'Zipcode': 10001, 'Credit_Card': 8334770465025305}, {'City': 'Huntington', 'State': 'MA', 'Zipcode': 1050, 'Credit_Card': 8338845492364614}, {'City': 'Washington', 'State': 'NH', 'Zipcode': 3280, 'Credit_Card': 8353267890887335}, {'City': 'Washington', 'State': 'NH', 'Zipcode': 3280, 'Credit_Card': 8359628052869851}, {'City': 'Dallas', 'State': 'PA', 'Zipcode': 18612, 'Credit_Card': 8364327933036701}, {'City': 'Washington', 'State': 'NH', 'Zipcode': 3280, 'Credit_Card': 8400351495711483}, {'City': 'Washington', 'State': 'NH', 'Zipcode': 3280, 'Credit_Card': 8409627988583176}, {'City': 'New York', 'State': 'NY', 'Zipcode': 10001, 'Credit_Card': 8413908390816172}, {'City': 'Washington', 'State': 'NH', 'Zipcode': 3280, 'Credit_Card': 8414741953111383}, {'City': 'San Antonio', 'State': 'PR', 'Zipcode': 690, 'Credit_Card': 8415836921156758}, {'City': 'Washington', 'State': 'NH', 'Zipcode': 3280, 'Credit_Card': 8449977471766380}, {'City': 'Kansas City', 'State': 'MO', 'Zipcode': 64101, 'Credit_Card': 8505335594767160}, {'City': 'New York', 'State': 'NY', 'Zipcode': 10001, 'Credit_Card': 8533111210766809}, {'City': 'Des Moines', 'State': 'IA', 'Zipcode': 50301, 'Credit_Card': 8534199181434464}, {'City': 'Charlotte', 'State': 'VT', 'Zipcode': 5445, 'Credit_Card': 8535612911733195}, {'City': 'Colorado Springs', 'State': 'CO', 'Zipcode': 80509, 'Credit_Card': 8536914250563809}, {'City': 'Washington', 'State': 'NH', 'Zipcode': 3280, 'Credit_Card': 8550977182819809}, {'City': 'Wilmington', 'State': 'MA', 'Zipcode': 1887, 'Credit_Card': 8553746017036332}, {'City': 'Houston', 'State': 'PA', 'Zipcode': 15342, 'Credit_Card': 8561516016778095}, {'City': 'Washington', 'State': 'NH', 'Zipcode': 3280, 'Credit_Card': 8567390858674031}, {'City': 'Richmond', 'State': 'MA', 'Zipcode': 1254, 'Credit_Card': 8569454397966652}, {'City': 'El Paso', 'State': 'IL', 'Zipcode': 61738, 'Credit_Card': 8571851067025602}, {'City': 'Springfield', 'State': 'MA', 'Zipcode': 1101, 'Credit_Card': 8595793418524025}, {'City': 'Washington', 'State': 'NH', 'Zipcode': 3280, 'Credit_Card': 8596603091812656}, {'City': 'Houston', 'State': 'PA', 'Zipcode': 15342, 'Credit_Card': 8618599746674974}, {'City': 'Washington', 'State': 'NH', 'Zipcode': 3280, 'Credit_Card': 8625961993043126}, {'City': 'Dallas', 'State': 'PA', 'Zipcode': 18612, 'Credit_Card': 8675614747234783}, {'City': 'Washington', 'State': 'NH', 'Zipcode': 3280, 'Credit_Card': 8699513399693713}, {'City': 'Houston', 'State': 'PA', 'Zipcode': 15342, 'Credit_Card': 8702495698901225}, {'City': 'Phoenix', 'State': 'NY', 'Zipcode': 13135, 'Credit_Card': 8736638781823948}, {'City': 'Washington', 'State': 'NH', 'Zipcode': 3280, 'Credit_Card': 8746120498341854}, {'City': 'Miami', 'State': 'WV', 'Zipcode': 25134, 'Credit_Card': 8765140629962839}, {'City': 'El Paso', 'State': 'IL', 'Zipcode': 61738, 'Credit_Card': 8770230229094697}, {'City': 'Houston', 'State': 'PA', 'Zipcode': 15342, 'Credit_Card': 8779597037686839}, {'City': 'Washington', 'State': 'NH', 'Zipcode': 3280, 'Credit_Card': 8822567299944562}, {'City': 'Evansville', 'State': 'IN', 'Zipcode': 47412, 'Credit_Card': 8864950135729370}, {'City': 'Los Angeles', 'State': 'CA', 'Zipcode': 90001, 'Credit_Card': 8867710239543529}, {'City': 'Washington', 'State': 'NH', 'Zipcode': 3280, 'Credit_Card': 8886885444601763}, {'City': 'New York', 'State': 'NY', 'Zipcode': 10001, 'Credit_Card': 8924903425751823}, {'City': 'Washington', 'State': 'NH', 'Zipcode': 3280, 'Credit_Card': 8930627115152996}, {'City': 'Houston', 'State': 'PA', 'Zipcode': 15342, 'Credit_Card': 8938296722055540}, {'City': 'Washington', 'State': 'NH', 'Zipcode': 3280, 'Credit_Card': 8955392958618753}, {'City': 'Dallas', 'State': 'PA', 'Zipcode': 18612, 'Credit_Card': 8997872842487770}, {'City': 'Philadelphia', 'State': 'NY', 'Zipcode': 13673, 'Credit_Card': 9021391556427712}, {'City': 'Philadelphia', 'State': 'NY', 'Zipcode': 13673, 'Credit_Card': 9031216392913950}, {'City': 'Sacramento', 'State': 'PA', 'Zipcode': 17968, 'Credit_Card': 9043793084665932}, {'City': 'Minneapolis', 'State': 'NC', 'Zipcode': 28652, 'Credit_Card': 9066991493609928}, {'City': 'Kansas City', 'State': 'MO', 'Zipcode': 64101, 'Credit_Card': 9074496478473876}, {'City': 'Houston', 'State': 'PA', 'Zipcode': 15342, 'Credit_Card': 9081330229975376}, {'City': 'Milwaukee', 'State': 'NC', 'Zipcode': 27854, 'Credit_Card': 9101701756819166}, {'City': 'Houston', 'State': 'PA', 'Zipcode': 15342, 'Credit_Card': 9119845117528812}, {'City': 'Washington', 'State': 'NH', 'Zipcode': 3280, 'Credit_Card': 9194498820553808}, {'City': 'Washington', 'State': 'NH', 'Zipcode': 3280, 'Credit_Card': 9224205015351942}, {'City': 'Washington', 'State': 'NH', 'Zipcode': 3280, 'Credit_Card': 9232624030914708}, {'City': 'Sacramento', 'State': 'PA', 'Zipcode': 17968, 'Credit_Card': 9245298182395396}, {'City': 'Trenton', 'State': 'NJ', 'Zipcode': 8601, 'Credit_Card': 9246395935309352}, {'City': 'Philadelphia', 'State': 'NY', 'Zipcode': 13673, 'Credit_Card': 9256164582502904}, {'City': 'Washington', 'State': 'NH', 'Zipcode': 3280, 'Credit_Card': 9262144464078962}, {'City': 'Washington', 'State': 'NH', 'Zipcode': 3280, 'Credit_Card': 9264972320343248}, {'City': 'Madison', 'State': 'NH', 'Zipcode': 3849, 'Credit_Card': 9273979691375096}, {'City': 'Buffalo', 'State': 'NY', 'Zipcode': 14201, 'Credit_Card': 9304374049217870}, {'City': 'Charlotte', 'State': 'VT', 'Zipcode': 5445, 'Credit_Card': 9309465343004132}, {'City': 'Washington', 'State': 'NH', 'Zipcode': 3280, 'Credit_Card': 9310902645401474}, {'City': 'Springfield', 'State': 'MA', 'Zipcode': 1101, 'Credit_Card': 9311226148341480}, {'City': 'Washington', 'State': 'NH', 'Zipcode': 3280, 'Credit_Card': 9355177312625020}, {'City': 'Washington', 'State': 'NH', 'Zipcode': 3280, 'Credit_Card': 9375103964985968}, {'City': 'El Paso', 'State': 'IL', 'Zipcode': 61738, 'Credit_Card': 9383760568579492}, {'City': 'Washington', 'State': 'NH', 'Zipcode': 3280, 'Credit_Card': 9397534897596052}, {'City': 'Houston', 'State': 'PA', 'Zipcode': 15342, 'Credit_Card': 9426548622589628}, {'City': 'San Antonio', 'State': 'PR', 'Zipcode': 690, 'Credit_Card': 9430574789596024}, {'City': 'Richmond', 'State': 'MA', 'Zipcode': 1254, 'Credit_Card': 9449500138776236}, {'City': 'Kansas City', 'State': 'MO', 'Zipcode': 64101, 'Credit_Card': 9459985559411130}, {'City': 'Washington', 'State': 'NH', 'Zipcode': 3280, 'Credit_Card': 9460261785948036}, {'City': 'Washington', 'State': 'NH', 'Zipcode': 3280, 'Credit_Card': 9465925894275276}, {'City': 'Washington', 'State': 'NH', 'Zipcode': 3280, 'Credit_Card': 9466839319443564}, {'City': 'Houston', 'State': 'PA', 'Zipcode': 15342, 'Credit_Card': 9472892860209244}, {'City': 'Houston', 'State': 'PA', 'Zipcode': 15342, 'Credit_Card': 9474570595942268}, {'City': 'Washington', 'State': 'NH', 'Zipcode': 3280, 'Credit_Card': 9492326065816276}, {'City': 'Washington', 'State': 'NH', 'Zipcode': 3280, 'Credit_Card': 9528285469413252}, {'City': 'Washington', 'State': 'NH', 'Zipcode': 3280, 'Credit_Card': 9532228141038472}, {'City': 'Washington', 'State': 'NH', 'Zipcode': 3280, 'Credit_Card': 9547718659524868}, {'City': 'Columbus', 'State': 'NJ', 'Zipcode': 8022, 'Credit_Card': 9548629685194612}, {'City': 'San Francisco', 'State': 'CA', 'Zipcode': 94101, 'Credit_Card': 9552288592156524}, {'City': 'Garfield', 'State': 'NJ', 'Zipcode': 7026, 'Credit_Card': 9560420950294884}, {'City': 'Washington', 'State': 'NH', 'Zipcode': 3280, 'Credit_Card': 9587972953044328}, {'City': 'Orlando', 'State': 'WV', 'Zipcode': 26412, 'Credit_Card': 9591503562024072}, {'City': 'Washington', 'State': 'NH', 'Zipcode': 3280, 'Credit_Card': 9594995194184360}, {'City': 'Arlington', 'State': 'MA', 'Zipcode': 2174, 'Credit_Card': 9595658147867468}, {'City': 'Jackson', 'State': 'NH', 'Zipcode': 3846, 'Credit_Card': 9613939883867952}, {'City': 'Washington', 'State': 'NH', 'Zipcode': 3280, 'Credit_Card': 9617911327709708}, {'City': 'Washington', 'State': 'NH', 'Zipcode': 3280, 'Credit_Card': 9621317412072412}, {'City': 'Washington', 'State': 'NH', 'Zipcode': 3280, 'Credit_Card': 9634488553682032}, {'City': 'Washington', 'State': 'NH', 'Zipcode': 3280, 'Credit_Card': 9644781126679504}, {'City': 'New York', 'State': 'NY', 'Zipcode': 10001, 'Credit_Card': 9678367852258782}, {'City': 'El Paso', 'State': 'IL', 'Zipcode': 61738, 'Credit_Card': 9681744051023898}, {'City': 'New York', 'State': 'NY', 'Zipcode': 10001, 'Credit_Card': 9683778679967012}, {'City': 'El Paso', 'State': 'IL', 'Zipcode': 61738, 'Credit_Card': 9697976691448340}, {'City': 'Richmond', 'State': 'MA', 'Zipcode': 1254, 'Credit_Card': 9711468735134956}, {'City': 'Dallas', 'State': 'PA', 'Zipcode': 18612, 'Credit_Card': 9722420012449776}, {'City': 'Houston', 'State': 'PA', 'Zipcode': 15342, 'Credit_Card': 9737219864179988}, {'City': 'Washington', 'State': 'NH', 'Zipcode': 3280, 'Credit_Card': 9750493074217554}, {'City': 'Washington', 'State': 'NH', 'Zipcode': 3280, 'Credit_Card': 9755306333757844}, {'City': 'Dallas', 'State': 'PA', 'Zipcode': 18612, 'Credit_Card': 9757152469896436}, {'City': 'Washington', 'State': 'NH', 'Zipcode': 3280, 'Credit_Card': 9758203643408520}, {'City': 'Gretna', 'State': 'VA', 'Zipcode': 24557, 'Credit_Card': 9784236961027780}, {'City': 'Washington', 'State': 'NH', 'Zipcode': 3280, 'Credit_Card': 9791737612737164}, {'City': 'Washington', 'State': 'NH', 'Zipcode': 3280, 'Credit_Card': 9804141847583936}, {'City': 'New York', 'State': 'NY', 'Zipcode': 10001, 'Credit_Card': 9816797152028230}, {'City': 'Las Vegas', 'State': 'NM', 'Zipcode': 87701, 'Credit_Card': 9818730572429186}, {'City': 'Seattle', 'State': 'WA', 'Zipcode': 98060, 'Credit_Card': 9836548369808504}, {'City': 'Pittsburgh', 'State': 'PA', 'Zipcode': 15201, 'Credit_Card': 9837774113787236}, {'City': 'El Paso', 'State': 'IL', 'Zipcode': 61738, 'Credit_Card': 9851955447362962}, {'City': 'Houston', 'State': 'PA', 'Zipcode': 15342, 'Credit_Card': 9854872265114976}, {'City': 'Staten Island', 'State': 'NY', 'Zipcode': 10301, 'Credit_Card': 9855217884613002}, {'City': 'Washington', 'State': 'NH', 'Zipcode': 3280, 'Credit_Card': 9867492085978660}, {'City': 'Washington', 'State': 'NH', 'Zipcode': 3280, 'Credit_Card': 9938969980242308}, {'City': 'Washington', 'State': 'NH', 'Zipcode': 3280, 'Credit_Card': 9946917923319410}, {'City': 'Washington', 'State': 'NH', 'Zipcode': 3280, 'Credit_Card': 9958678964376192}, {'City': 'Washington', 'State': 'NH', 'Zipcode': 3280, 'Credit_Card': 9961694231875562}, {'City': 'New York', 'State': 'NY', 'Zipcode': 10001, 'Credit_Card': 9981251982982618}, {'City': 'Houston', 'State': 'PA', 'Zipcode': 15342, 'Credit_Card': 9986135779184360}, {'City': 'Houston', 'State': 'PA', 'Zipcode': 15342, 'Credit_Card': 1077622576192810}, {'City': 'Washington', 'State': 'NH', 'Zipcode': 3280, 'Credit_Card': 1250832548098023}, {'City': 'Memphis', 'State': 'NY', 'Zipcode': 13112, 'Credit_Card': 1281918894315694}, {'City': 'Wichita', 'State': 'KS', 'Zipcode': 67201, 'Credit_Card': 1284450389976622}, {'City': 'Washington', 'State': 'NH', 'Zipcode': 3280, 'Credit_Card': 1375199270298437}, {'City': 'Oklahoma City', 'State': 'OK', 'Zipcode': 73101, 'Credit_Card': 1420382222148431}, {'City': 'Washington', 'State': 'NH', 'Zipcode': 3280, 'Credit_Card': 1461675388467265}, {'City': 'Washington', 'State': 'NH', 'Zipcode': 3280, 'Credit_Card': 1464551767416747}, {'City': 'Kansas City', 'State': 'MO', 'Zipcode': 64101, 'Credit_Card': 1489635379898079}, {'City': 'Washington', 'State': 'NH', 'Zipcode': 3280, 'Credit_Card': 1548924125935895}, {'City': 'Arlington', 'State': 'MA', 'Zipcode': 2174, 'Credit_Card': 1627133998042765}, {'City': 'Houston', 'State': 'PA', 'Zipcode': 15342, 'Credit_Card': 1655819415123756}, {'City': 'Saint Paul', 'State': 'VA', 'Zipcode': 24283, 'Credit_Card': 1808965499397505}, {'City': 'Washington', 'State': 'NH', 'Zipcode': 3280, 'Credit_Card': 1828893451751906}, {'City': 'Houston', 'State': 'PA', 'Zipcode': 15342, 'Credit_Card': 1838946782417200}, {'City': 'Washington', 'State': 'NH', 'Zipcode': 3280, 'Credit_Card': 1896197396507201}, {'City': 'Roanoke', 'State': 'VA', 'Zipcode': 24001, 'Credit_Card': 1930721677192144}, {'City': 'Portland', 'State': 'ME', 'Zipcode': 4101, 'Credit_Card': 1981294676906345}, {'City': 'Washington', 'State': 'NH', 'Zipcode': 3280, 'Credit_Card': 2078460270025590}, {'City': 'Charlotte', 'State': 'VT', 'Zipcode': 5445, 'Credit_Card': 2267974573364254}, {'City': 'Sacramento', 'State': 'PA', 'Zipcode': 17968, 'Credit_Card': 2407349078067156}, {'City': 'Sacramento', 'State': 'PA', 'Zipcode': 17968, 'Credit_Card': 2519792944246796}, {'City': 'Saint Louis', 'State': 'MI', 'Zipcode': 48880, 'Credit_Card': 2596862660671371}, {'City': 'Washington', 'State': 'NH', 'Zipcode': 3280, 'Credit_Card': 2824840080919615}, {'City': 'New York', 'State': 'NY', 'Zipcode': 10001, 'Credit_Card': 2995243184388559}, {'City': 'El Paso', 'State': 'IL', 'Zipcode': 61738, 'Credit_Card': 3028140595406023}, {'City': 'Austin', 'State': 'PA', 'Zipcode': 16720, 'Credit_Card': 3153643853817761}, {'City': 'Houston', 'State': 'PA', 'Zipcode': 15342, 'Credit_Card': 3340974252743524}, {'City': 'El Paso', 'State': 'IL', 'Zipcode': 61738, 'Credit_Card': 3344214228396727}, {'City': 'Springfield', 'State': 'MA', 'Zipcode': 1101, 'Credit_Card': 3413946891046800}, {'City': 'Washington', 'State': 'NH', 'Zipcode': 3280, 'Credit_Card': 3417477890619483}, {'City': 'Washington', 'State': 'NH', 'Zipcode': 3280, 'Credit_Card': 3458282373086860}, {'City': 'New York', 'State': 'NY', 'Zipcode': 10001, 'Credit_Card': 3520225040306995}, {'City': 'Detroit', 'State': 'ME', 'Zipcode': 4929, 'Credit_Card': 3569775399128772}, {'City': 'Jacksonville', 'State': 'VT', 'Zipcode': 5342, 'Credit_Card': 3598888231646460}, {'City': 'Topeka', 'State': 'IN', 'Zipcode': 46571, 'Credit_Card': 3645572182845204}, {'City': 'New York', 'State': 'NY', 'Zipcode': 10001, 'Credit_Card': 3796907537369905}, {'City': 'Washington', 'State': 'NH', 'Zipcode': 3280, 'Credit_Card': 3871110336988202}, {'City': 'Dayton', 'State': 'NJ', 'Zipcode': 8810, 'Credit_Card': 3902105116692669}, {'City': 'New York', 'State': 'NY', 'Zipcode': 10001, 'Credit_Card': 4050952261377140}, {'City': 'Philadelphia', 'State': 'NY', 'Zipcode': 13673, 'Credit_Card': 4074760985342487}, {'City': 'Washington', 'State': 'NH', 'Zipcode': 3280, 'Credit_Card': 4157980693234568}, {'City': 'Oakland', 'State': 'RI', 'Zipcode': 2858, 'Credit_Card': 4168922642514119}, {'City': 'Miami', 'State': 'WV', 'Zipcode': 25134, 'Credit_Card': 4227572855159541}, {'City': 'Washington', 'State': 'NH', 'Zipcode': 3280, 'Credit_Card': 4289208456528903}, {'City': 'Dallas', 'State': 'PA', 'Zipcode': 18612, 'Credit_Card': 4290726060535834}, {'City': 'New York', 'State': 'NY', 'Zipcode': 10001, 'Credit_Card': 4307439154071927}, {'City': 'Albany', 'State': 'VT', 'Zipcode': 5820, 'Credit_Card': 4803218554363943}, {'City': 'Washington', 'State': 'NH', 'Zipcode': 3280, 'Credit_Card': 4890937775145245}, {'City': 'Houston', 'State': 'PA', 'Zipcode': 15342, 'Credit_Card': 4904685164839326}, {'City': 'Albany', 'State': 'VT', 'Zipcode': 5820, 'Credit_Card': 5133871386101527}, {'City': 'Washington', 'State': 'NH', 'Zipcode': 3280, 'Credit_Card': 5166438433672591}, {'City': 'Springfield', 'State': 'MA', 'Zipcode': 1101, 'Credit_Card': 5364469336425108}, {'City': 'Washington', 'State': 'NH', 'Zipcode': 3280, 'Credit_Card': 5376655964161192}, {'City': 'Charlotte', 'State': 'VT', 'Zipcode': 5445, 'Credit_Card': 5494958749848869}, {'City': 'Springfield', 'State': 'MA', 'Zipcode': 1101, 'Credit_Card': 5705142797618710}, {'City': 'Bristol', 'State': 'RI', 'Zipcode': 2809, 'Credit_Card': 5739635764702223}, {'City': 'Washington', 'State': 'NH', 'Zipcode': 3280, 'Credit_Card': 6126515498577720}, {'City': 'Washington', 'State': 'NH', 'Zipcode': 3280, 'Credit_Card': 6156698325995733}, {'City': 'Washington', 'State': 'NH', 'Zipcode': 3280, 'Credit_Card': 6164143160904912}, {'City': 'Houston', 'State': 'PA', 'Zipcode': 15342, 'Credit_Card': 6215912685151625}, {'City': 'Washington', 'State': 'NH', 'Zipcode': 3280, 'Credit_Card': 6354366482171744}, {'City': 'Dallas', 'State': 'PA', 'Zipcode': 18612, 'Credit_Card': 6368470078113844}, {'City': 'Springfield', 'State': 'MA', 'Zipcode': 1101, 'Credit_Card': 6447142363937125}, {'City': 'Atlanta', 'State': 'NY', 'Zipcode': 14808, 'Credit_Card': 6457362521948249}, {'City': 'El Paso', 'State': 'IL', 'Zipcode': 61738, 'Credit_Card': 6756817030435521}, {'City': 'Denver', 'State': 'NY', 'Zipcode': 12421, 'Credit_Card': 6838971510538393}, {'City': 'Birmingham', 'State': 'NJ', 'Zipcode': 8011, 'Credit_Card': 6872461016514653}, {'City': 'Washington', 'State': 'NH', 'Zipcode': 3280, 'Credit_Card': 6967355131453039}, {'City': 'Austin', 'State': 'PA', 'Zipcode': 16720, 'Credit_Card': 7073490367448189}, {'City': 'Baltimore', 'State': 'MD', 'Zipcode': 21201, 'Credit_Card': 7124999548487126}, {'City': 'Washington', 'State': 'NH', 'Zipcode': 3280, 'Credit_Card': 7242139332065500}, {'City': 'Kansas City', 'State': 'MO', 'Zipcode': 64101, 'Credit_Card': 7392714892073628}, {'City': 'Montgomery', 'State': 'VT', 'Zipcode': 5470, 'Credit_Card': 7459970825011990}, {'City': 'Charlotte', 'State': 'VT', 'Zipcode': 5445, 'Credit_Card': 7546186362815170}, {'City': 'New York', 'State': 'NY', 'Zipcode': 10001, 'Credit_Card': 7581688456986723}, {'City': 'Houston', 'State': 'PA', 'Zipcode': 15342, 'Credit_Card': 7675526470884968}, {'City': 'Miami', 'State': 'WV', 'Zipcode': 25134, 'Credit_Card': 7805761625362663}, {'City': 'Richmond', 'State': 'MA', 'Zipcode': 1254, 'Credit_Card': 7810782077858620}, {'City': 'Los Angeles', 'State': 'CA', 'Zipcode': 90001, 'Credit_Card': 8016323385451014}, {'City': 'Phoenix', 'State': 'NY', 'Zipcode': 13135, 'Credit_Card': 8060656990279276}, {'City': 'Albany', 'State': 'VT', 'Zipcode': 5820, 'Credit_Card': 8088335924434698}, {'City': 'Miami', 'State': 'WV', 'Zipcode': 25134, 'Credit_Card': 8311886363156679}, {'City': 'Salt Lake City', 'State': 'UT', 'Zipcode': 84101, 'Credit_Card': 8450891535792894}, {'City': 'Houston', 'State': 'PA', 'Zipcode': 15342, 'Credit_Card': 8516934048339373}, {'City': 'Washington', 'State': 'NH', 'Zipcode': 3280, 'Credit_Card': 8526940090693523}, {'City': 'Washington', 'State': 'NH', 'Zipcode': 3280, 'Credit_Card': 8540644680323289}, {'City': 'Houston', 'State': 'PA', 'Zipcode': 15342, 'Credit_Card': 8707235956924043}, {'City': 'Washington', 'State': 'NH', 'Zipcode': 3280, 'Credit_Card': 8774466977695404}, {'City': 'Houston', 'State': 'PA', 'Zipcode': 15342, 'Credit_Card': 8889611665372298}, {'City': 'Oklahoma City', 'State': 'OK', 'Zipcode': 73101, 'Credit_Card': 8894346622126012}, {'City': 'Houston', 'State': 'PA', 'Zipcode': 15342, 'Credit_Card': 8990491830039318}, {'City': 'Washington', 'State': 'NH', 'Zipcode': 3280, 'Credit_Card': 9076783251687962}, {'City': 'Washington', 'State': 'NH', 'Zipcode': 3280, 'Credit_Card': 9182297359077336}, {'City': 'Seattle', 'State': 'WA', 'Zipcode': 98060, 'Credit_Card': 9254188841656040}, {'City': 'Madison', 'State': 'NH', 'Zipcode': 3849, 'Credit_Card': 9258505119361784}, {'City': 'Richmond', 'State': 'MA', 'Zipcode': 1254, 'Credit_Card': 9266231744455912}, {'City': 'Houston', 'State': 'PA', 'Zipcode': 15342, 'Credit_Card': 9271294569681900}, {'City': 'Washington', 'State': 'NH', 'Zipcode': 3280, 'Credit_Card': 9336370388304846}, {'City': 'Oklahoma City', 'State': 'OK', 'Zipcode': 73101, 'Credit_Card': 9389953638589188}, {'City': 'Corpus Christi', 'State': 'TX', 'Zipcode': 78401, 'Credit_Card': 9635686158177722}, {'City': 'Washington', 'State': 'NH', 'Zipcode': 3280, 'Credit_Card': 9657365357231404}, {'City': 'Dallas', 'State': 'PA', 'Zipcode': 18612, 'Credit_Card': 9698400826549648}, {'City': 'Madison', 'State': 'NH', 'Zipcode': 3849, 'Credit_Card': 9802875887295518}, {'City': 'Washington', 'State': 'NH', 'Zipcode': 3280, 'Credit_Card': 9884182241594028}, {'City': 'Charleston', 'State': 'ME', 'Zipcode': 4422, 'Credit_Card': 2409669868254522}, {'City': 'Pittsburgh', 'State': 'PA', 'Zipcode': 15201, 'Credit_Card': 5449610971108305}, {'City': 'New York', 'State': 'NY', 'Zipcode': 10001, 'Credit_Card': 4296246438604183}, {'City': 'Lexington', 'State': 'MA', 'Zipcode': 2173, 'Credit_Card': 4705966876787269}, {'City': 'El Paso', 'State': 'IL', 'Zipcode': 61738, 'Credit_Card': 4954103748307036}, {'City': 'New York', 'State': 'NY', 'Zipcode': 10001, 'Credit_Card': 6400102930973570}]\n"
     ]
    }
   ],
   "source": [
    "print (never_spend(trans,10)) ## second input is month format "
   ]
  },
  {
   "cell_type": "markdown",
   "metadata": {},
   "source": [
    "## Question2\n",
    "\n",
    "On the other hand, Boss wants you to implement an algorithm that as soon as a user goes above her monthly limit, it triggers an alert so that the user can be notified about that. We assume here that at the beginning of the new month, user total money spent gets reset to z􏰓ero (i􏰔.e. she pays the card fully at the end of each month). Build a function that for each day, returns a list of users who went above their credit card monthly limit on that day. "
   ]
  },
  {
   "cell_type": "code",
   "execution_count": 19,
   "metadata": {
    "collapsed": false
   },
   "outputs": [
    {
     "name": "stdout",
     "output_type": "stream",
     "text": [
      "[{'City': 'Washington', 'State': 'NH', 'Zipcode': 3280, 'Credit_Card': 1106824181265726}, {'City': 'Houston', 'State': 'PA', 'Zipcode': 15342, 'Credit_Card': 1460880989446247}, {'City': 'Kansas City', 'State': 'MO', 'Zipcode': 64101, 'Credit_Card': 1934150487562155}, {'City': 'Washington', 'State': 'NH', 'Zipcode': 3280, 'Credit_Card': 2245942585429940}, {'City': 'Washington', 'State': 'NH', 'Zipcode': 3280, 'Credit_Card': 2366928097135853}, {'City': 'Washington', 'State': 'NH', 'Zipcode': 3280, 'Credit_Card': 2505223645294729}, {'City': 'Washington', 'State': 'NH', 'Zipcode': 3280, 'Credit_Card': 2610112472096585}, {'City': 'El Paso', 'State': 'IL', 'Zipcode': 61738, 'Credit_Card': 2891791194252089}, {'City': 'Washington', 'State': 'NH', 'Zipcode': 3280, 'Credit_Card': 2980539633198204}, {'City': 'Washington', 'State': 'NH', 'Zipcode': 3280, 'Credit_Card': 3138132199016625}, {'City': 'Washington', 'State': 'NH', 'Zipcode': 3280, 'Credit_Card': 3264419298955673}, {'City': 'Pittsburgh', 'State': 'PA', 'Zipcode': 15201, 'Credit_Card': 3276369883343727}, {'City': 'Miami', 'State': 'WV', 'Zipcode': 25134, 'Credit_Card': 3355576223096097}, {'City': 'New York', 'State': 'NY', 'Zipcode': 10001, 'Credit_Card': 3369600965634913}, {'City': 'Washington', 'State': 'NH', 'Zipcode': 3280, 'Credit_Card': 3676109815092640}, {'City': 'Des Moines', 'State': 'IA', 'Zipcode': 50301, 'Credit_Card': 3929517687134990}, {'City': 'Sacramento', 'State': 'PA', 'Zipcode': 17968, 'Credit_Card': 3936887050542904}, {'City': 'Dallas', 'State': 'PA', 'Zipcode': 18612, 'Credit_Card': 4052848131106690}, {'City': 'El Paso', 'State': 'IL', 'Zipcode': 61738, 'Credit_Card': 4118286032166087}, {'City': 'Pittsburgh', 'State': 'PA', 'Zipcode': 15201, 'Credit_Card': 4298557099672376}, {'City': 'New York', 'State': 'NY', 'Zipcode': 10001, 'Credit_Card': 4462290711836916}, {'City': 'Houston', 'State': 'PA', 'Zipcode': 15342, 'Credit_Card': 4973517790485920}, {'City': 'Washington', 'State': 'NH', 'Zipcode': 3280, 'Credit_Card': 5257380962581683}, {'City': 'New York', 'State': 'NY', 'Zipcode': 10001, 'Credit_Card': 5723635641134781}, {'City': 'Cincinnati', 'State': 'OH', 'Zipcode': 45201, 'Credit_Card': 5899644472359642}, {'City': 'Madison', 'State': 'NH', 'Zipcode': 3849, 'Credit_Card': 5915891114492596}, {'City': 'Washington', 'State': 'NH', 'Zipcode': 3280, 'Credit_Card': 5975270769354417}, {'City': 'Washington', 'State': 'NH', 'Zipcode': 3280, 'Credit_Card': 5996982621454469}, {'City': 'Washington', 'State': 'NH', 'Zipcode': 3280, 'Credit_Card': 6174559182308122}, {'City': 'Washington', 'State': 'NH', 'Zipcode': 3280, 'Credit_Card': 6292410823269309}, {'City': 'Washington', 'State': 'NH', 'Zipcode': 3280, 'Credit_Card': 6358192544004241}, {'City': 'Washington', 'State': 'NH', 'Zipcode': 3280, 'Credit_Card': 6497866359354370}, {'City': 'Dallas', 'State': 'PA', 'Zipcode': 18612, 'Credit_Card': 6766253113444560}, {'City': 'Miami', 'State': 'WV', 'Zipcode': 25134, 'Credit_Card': 6984795534098127}, {'City': 'Dallas', 'State': 'PA', 'Zipcode': 18612, 'Credit_Card': 7107467078128879}, {'City': 'El Paso', 'State': 'IL', 'Zipcode': 61738, 'Credit_Card': 7198750113791865}, {'City': 'Washington', 'State': 'NH', 'Zipcode': 3280, 'Credit_Card': 7214837915436490}, {'City': 'Washington', 'State': 'NH', 'Zipcode': 3280, 'Credit_Card': 7238936669483666}, {'City': 'Washington', 'State': 'NH', 'Zipcode': 3280, 'Credit_Card': 7266500047328736}, {'City': 'Washington', 'State': 'NH', 'Zipcode': 3280, 'Credit_Card': 7299183791723634}, {'City': 'New York', 'State': 'NY', 'Zipcode': 10001, 'Credit_Card': 7324887971716592}, {'City': 'San Antonio', 'State': 'PR', 'Zipcode': 690, 'Credit_Card': 7338934618553557}, {'City': 'Portland', 'State': 'ME', 'Zipcode': 4101, 'Credit_Card': 7492940622489570}, {'City': 'Fresno', 'State': 'OH', 'Zipcode': 43824, 'Credit_Card': 7499289351166761}, {'City': 'Washington', 'State': 'NH', 'Zipcode': 3280, 'Credit_Card': 7545819552904208}, {'City': 'Washington', 'State': 'NH', 'Zipcode': 3280, 'Credit_Card': 7556827548313098}, {'City': 'Washington', 'State': 'NH', 'Zipcode': 3280, 'Credit_Card': 7850942767136368}, {'City': 'Washington', 'State': 'NH', 'Zipcode': 3280, 'Credit_Card': 7922818627489943}, {'City': 'Washington', 'State': 'NH', 'Zipcode': 3280, 'Credit_Card': 7924297455503050}, {'City': 'Washington', 'State': 'NH', 'Zipcode': 3280, 'Credit_Card': 7943675133681182}, {'City': 'Portland', 'State': 'ME', 'Zipcode': 4101, 'Credit_Card': 8117664962797683}, {'City': 'Dayton', 'State': 'NJ', 'Zipcode': 8810, 'Credit_Card': 8138690656185482}, {'City': 'Washington', 'State': 'NH', 'Zipcode': 3280, 'Credit_Card': 8522875529951473}, {'City': 'Lancaster', 'State': 'MA', 'Zipcode': 1523, 'Credit_Card': 8660372645853870}, {'City': 'El Paso', 'State': 'IL', 'Zipcode': 61738, 'Credit_Card': 8766575362057055}, {'City': 'Manchester', 'State': 'MA', 'Zipcode': 1944, 'Credit_Card': 8896425420278012}, {'City': 'Washington', 'State': 'NH', 'Zipcode': 3280, 'Credit_Card': 8972201384562696}, {'City': 'Washington', 'State': 'NH', 'Zipcode': 3280, 'Credit_Card': 9143914562725960}, {'City': 'New Orleans', 'State': 'LA', 'Zipcode': 70112, 'Credit_Card': 9484591448272784}, {'City': 'Huntington', 'State': 'MA', 'Zipcode': 1050, 'Credit_Card': 9577424157559810}, {'City': 'Sacramento', 'State': 'PA', 'Zipcode': 17968, 'Credit_Card': 9632319271199136}, {'City': 'Louisville', 'State': 'GA', 'Zipcode': 30434, 'Credit_Card': 9999757432802760}]\n"
     ]
    }
   ],
   "source": [
    "print (above_spend(trans,\"2015-10-28\")) ## second input is Date in \"yyyy-mm-dd\" foramt "
   ]
  },
  {
   "cell_type": "markdown",
   "metadata": {},
   "source": [
    "## Question 3\n",
    "\n",
    "Finally, Boss is very concerned about frauds cause they are a huge cost for credit card companies. She wants you to implement an unsupervised algorithm that returns all transactions that seem unusual and are worth being investigated further. "
   ]
  },
  {
   "cell_type": "markdown",
   "metadata": {},
   "source": [
    "In order to identify the fraud , we can go either unsupervised algorithm or built-in-algorithm which provides the fraud analysis.\n",
    "\n",
    "I tried both methodology. \n",
    "\n",
    "Built-in algorithm:\n",
    "\n",
    "1)  Identify the distance between  longitude and latitude of each purchase and zipcode (cardholder)\n",
    "\n",
    "2)  Distance_check:\n",
    "    determine whether a particular distance of transaction is more than normal distance\n",
    "    1 ==> if distance of the purchase is more than avg or 90% percentile(I am considering 90% percentile)\n",
    "    0 ==> if distance of the purchase is within avg or 90% percentile\n",
    "\n",
    "\n",
    "3)  Amount_check:\n",
    "    determine whether a particular amount of transaction is more than normal\n",
    "    1 ==> if amount of the purchase is more than avg or 90% percentile(I am considering 90% percentile)\n",
    "    0 ==> if amount of the purchase is within avg or 90% percentile\n",
    "    \n",
    "    \n",
    "4)  If a purchase is 1  either in amount_check or distance_check , then i am considering that particular transaction is possible fraud \n",
    "\n",
    "\n",
    " 5) This possible fraud can be used to predict by using machine learning algorithm  \n",
    "\n",
    "    "
   ]
  },
  {
   "cell_type": "markdown",
   "metadata": {},
   "source": [
    "### Preprocessing"
   ]
  },
  {
   "cell_type": "code",
   "execution_count": 20,
   "metadata": {
    "collapsed": true
   },
   "outputs": [],
   "source": [
    "\n",
    "trans['Date']=trans['date'].map(lambda x: datetime.strptime(x,\"%Y-%m-%d %H:%M:%S\").strftime(\"%Y-%m-%d\"))\n",
    "trans['Month']=trans['Date'].map(lambda x: datetime.strptime(x,\"%Y-%m-%d\").month)\n",
    "\n",
    "trans['Day']=trans['Date'].map(lambda x:weekDay(x))\n",
    "trans['weekend']=trans['Day'].map(lambda x:weekend(x))\n",
    "\n",
    "trans['Month']=trans['Date'].map(lambda x: datetime.strptime(x,\"%Y-%m-%d\").month)"
   ]
  },
  {
   "cell_type": "code",
   "execution_count": 21,
   "metadata": {
    "collapsed": false
   },
   "outputs": [],
   "source": [
    "trans_union = pd.merge(trans,credit_card_union,on='credit_card')"
   ]
  },
  {
   "cell_type": "code",
   "execution_count": 22,
   "metadata": {
    "collapsed": false
   },
   "outputs": [],
   "source": [
    "trans_union['distance']=trans_union[['latitude','longitude','Long','Lat']].apply(distance,axis=1)\n",
    "trans_union['distance']=trans_union['distance'].map(lambda x : round(x,2))\n",
    "\n",
    "trans_group_amount=trans_union.groupby('credit_card')['transaction_dollar_amount']\n",
    "trans_group_distance=trans_union.groupby('credit_card')['distance']"
   ]
  },
  {
   "cell_type": "code",
   "execution_count": 23,
   "metadata": {
    "collapsed": false
   },
   "outputs": [],
   "source": [
    "trans_amount = pd.DataFrame({\"Mean_ammount\":trans_group_amount.mean(),\"90Percentile_amount\":trans_group_amount.quantile(0.9)}).reset_index()"
   ]
  },
  {
   "cell_type": "code",
   "execution_count": 24,
   "metadata": {
    "collapsed": false
   },
   "outputs": [],
   "source": [
    "trans_distance=pd.DataFrame({\"Mean_distance\":trans_group_distance.mean(),\"90Percentile_distance\":trans_group_distance.quantile(0.9)}).reset_index()"
   ]
  },
  {
   "cell_type": "code",
   "execution_count": 25,
   "metadata": {
    "collapsed": true
   },
   "outputs": [],
   "source": [
    "trans_union=pd.merge(trans_union,trans_distance,on='credit_card')\n",
    "trans_union=pd.merge(trans_union,trans_amount,on='credit_card')"
   ]
  },
  {
   "cell_type": "code",
   "execution_count": 26,
   "metadata": {
    "collapsed": false
   },
   "outputs": [],
   "source": [
    "trans_union['Amount_check'] = trans_union[['transaction_dollar_amount','90Percentile_amount']].apply(check,axis=1)\n",
    "trans_union['Distance_check']=trans_union[['distance','90Percentile_distance']].apply(check,axis=1)"
   ]
  },
  {
   "cell_type": "code",
   "execution_count": 27,
   "metadata": {
    "collapsed": false
   },
   "outputs": [],
   "source": [
    "trans_union['Possible_fraud']=trans_union[['Amount_check','Distance_check']].apply(possible_fraud,axis=1)"
   ]
  },
  {
   "cell_type": "code",
   "execution_count": 28,
   "metadata": {
    "collapsed": true
   },
   "outputs": [],
   "source": [
    "final_df=trans_union.drop(['date','Long','Lat','Date','city','state',\n",
    "                           'zipcode','latitude','longitude','90Percentile_distance','Mean_distance',\n",
    "                          '90Percentile_amount','Mean_ammount','Amount_check','Distance_check','credit_card_limit'],axis=1)"
   ]
  },
  {
   "cell_type": "code",
   "execution_count": 29,
   "metadata": {
    "collapsed": false
   },
   "outputs": [
    {
     "name": "stdout",
     "output_type": "stream",
     "text": [
      "        credit_card  transaction_dollar_amount  Month  Day  weekend  distance  \\\n",
      "0  1003715054175576                      43.78      9    5        0      4.84   \n",
      "1  1003715054175576                     103.15     10    6        1      7.30   \n",
      "2  1003715054175576                      48.55     10    1        0      7.88   \n",
      "3  1003715054175576                     136.18     10    4        0      6.69   \n",
      "4  1003715054175576                      71.82     10    1        0      8.56   \n",
      "\n",
      "   Possible_fraud  \n",
      "0               0  \n",
      "1               0  \n",
      "2               0  \n",
      "3               0  \n",
      "4               0  \n"
     ]
    }
   ],
   "source": [
    "print (final_df.head())"
   ]
  },
  {
   "cell_type": "code",
   "execution_count": 30,
   "metadata": {
    "collapsed": false
   },
   "outputs": [
    {
     "name": "stdout",
     "output_type": "stream",
     "text": [
      "                           transaction_dollar_amount     Month       Day  \\\n",
      "transaction_dollar_amount                   1.000000  0.001723 -0.001815   \n",
      "Month                                       0.001723  1.000000 -0.012902   \n",
      "Day                                        -0.001815 -0.012902  1.000000   \n",
      "weekend                                    -0.000618 -0.024048  0.071242   \n",
      "distance                                    0.001493  0.001010 -0.000202   \n",
      "Possible_fraud                              0.363150  0.000931  0.001400   \n",
      "\n",
      "                            weekend  distance  Possible_fraud  \n",
      "transaction_dollar_amount -0.000618  0.001493        0.363150  \n",
      "Month                     -0.024048  0.001010        0.000931  \n",
      "Day                        0.071242 -0.000202        0.001400  \n",
      "weekend                    1.000000 -0.003628       -0.003249  \n",
      "distance                  -0.003628  1.000000        0.235917  \n",
      "Possible_fraud            -0.003249  0.235917        1.000000  \n"
     ]
    }
   ],
   "source": [
    "print (final_df.ix[:,1:].corr())"
   ]
  },
  {
   "cell_type": "code",
   "execution_count": 31,
   "metadata": {
    "collapsed": true
   },
   "outputs": [],
   "source": [
    "col=final_df.columns"
   ]
  },
  {
   "cell_type": "code",
   "execution_count": 32,
   "metadata": {
    "collapsed": true
   },
   "outputs": [],
   "source": [
    "for col in col :\n",
    "    if col == 'Month 'or col == 'Day' or col=='weekend':\n",
    "        final_df[col]=final_df[col].astype('category')\n",
    "        final_df[col]=final_df[col].cat.codes\n",
    "    else:\n",
    "        continue"
   ]
  },
  {
   "cell_type": "code",
   "execution_count": 33,
   "metadata": {
    "collapsed": true
   },
   "outputs": [],
   "source": [
    "from sklearn import cross_validation\n",
    "from sklearn.ensemble import RandomForestClassifier\n",
    "from scipy import stats"
   ]
  },
  {
   "cell_type": "code",
   "execution_count": 34,
   "metadata": {
    "collapsed": true
   },
   "outputs": [],
   "source": [
    "train, test=cross_validation.train_test_split(final_df, train_size = 0.7)"
   ]
  },
  {
   "cell_type": "code",
   "execution_count": 35,
   "metadata": {
    "collapsed": false
   },
   "outputs": [],
   "source": [
    "Xtrain = train.drop(['credit_card','Possible_fraud'],axis=1)\n",
    "Ytrain = train['Possible_fraud']\n",
    "\n",
    "Xtest = test.drop(['credit_card','Possible_fraud'],axis=1)\n",
    "Ytest = test['Possible_fraud']\n"
   ]
  },
  {
   "cell_type": "code",
   "execution_count": 36,
   "metadata": {
    "collapsed": true
   },
   "outputs": [],
   "source": [
    "rf = RandomForestClassifier()"
   ]
  },
  {
   "cell_type": "code",
   "execution_count": 37,
   "metadata": {
    "collapsed": false
   },
   "outputs": [
    {
     "data": {
      "text/plain": [
       "RandomForestClassifier(bootstrap=True, class_weight=None, criterion='gini',\n",
       "            max_depth=None, max_features='auto', max_leaf_nodes=None,\n",
       "            min_samples_leaf=1, min_samples_split=2,\n",
       "            min_weight_fraction_leaf=0.0, n_estimators=10, n_jobs=1,\n",
       "            oob_score=False, random_state=None, verbose=0,\n",
       "            warm_start=False)"
      ]
     },
     "execution_count": 37,
     "metadata": {},
     "output_type": "execute_result"
    }
   ],
   "source": [
    "rf.fit(Xtrain,Ytrain)"
   ]
  },
  {
   "cell_type": "code",
   "execution_count": 38,
   "metadata": {
    "collapsed": false
   },
   "outputs": [
    {
     "name": "stdout",
     "output_type": "stream",
     "text": [
      "Possible_fraud       0      1\n",
      "row_0                        \n",
      "0               159344   2562\n",
      "1                  265  35009\n"
     ]
    }
   ],
   "source": [
    "results_train = pd.crosstab(rf.predict(Xtrain),Ytrain)\n",
    "\n",
    "print results_train"
   ]
  },
  {
   "cell_type": "markdown",
   "metadata": {},
   "source": [
    "#### Identifying the feature importances feature"
   ]
  },
  {
   "cell_type": "code",
   "execution_count": 39,
   "metadata": {
    "collapsed": false
   },
   "outputs": [
    {
     "name": "stdout",
     "output_type": "stream",
     "text": [
      "                           importance\n",
      "feature                              \n",
      "distance                        0.556\n",
      "transaction_dollar_amount       0.424\n",
      "Day                             0.010\n",
      "Month                           0.008\n",
      "weekend                         0.001\n"
     ]
    },
    {
     "data": {
      "text/plain": [
       "<matplotlib.axes._subplots.AxesSubplot at 0x130927b8>"
      ]
     },
     "execution_count": 39,
     "metadata": {},
     "output_type": "execute_result"
    },
    {
     "data": {
      "image/png": "[encoded data removed]",
      "text/plain": [
       "<matplotlib.figure.Figure at 0x113f50f0>"
      ]
     },
     "metadata": {},
     "output_type": "display_data"
    }
   ],
   "source": [
    "importances = pd.DataFrame({'feature':Xtrain.columns,'importance':np.round(rf.feature_importances_,3)})\n",
    "importances = importances.sort_values('importance',ascending=False).set_index('feature')\n",
    "print (importances)\n",
    "importances.plot.bar()"
   ]
  },
  {
   "cell_type": "code",
   "execution_count": 40,
   "metadata": {
    "collapsed": false
   },
   "outputs": [
    {
     "name": "stdout",
     "output_type": "stream",
     "text": [
      "0.98566284613\n"
     ]
    }
   ],
   "source": [
    "print (results_train[0][0]+results_train[1][1])/len(train)"
   ]
  },
  {
   "cell_type": "code",
   "execution_count": 41,
   "metadata": {
    "collapsed": false
   },
   "outputs": [
    {
     "name": "stdout",
     "output_type": "stream",
     "text": [
      "Possible_fraud      0     1\n",
      "row_0                      \n",
      "0               65402  6626\n",
      "1                2846  9633\n"
     ]
    }
   ],
   "source": [
    "results_test = pd.crosstab(rf.predict(Xtest),Ytest)\n",
    "print results_test"
   ]
  },
  {
   "cell_type": "code",
   "execution_count": 42,
   "metadata": {
    "collapsed": false
   },
   "outputs": [
    {
     "name": "stdout",
     "output_type": "stream",
     "text": [
      "0.887914610624\n"
     ]
    }
   ],
   "source": [
    "print (results_test[0][0]+results_test[1][1])/len(test)"
   ]
  },
  {
   "cell_type": "markdown",
   "metadata": {},
   "source": [
    "## Unisupervised algorithm"
   ]
  },
  {
   "cell_type": "markdown",
   "metadata": {},
   "source": [
    "Unisupervised algorithm can be done on credit card either as whole or individually "
   ]
  },
  {
   "cell_type": "markdown",
   "metadata": {},
   "source": [
    "## Clustering on either credit_card data "
   ]
  },
  {
   "cell_type": "code",
   "execution_count": 43,
   "metadata": {
    "collapsed": false
   },
   "outputs": [],
   "source": [
    "df= trans.pivot_table(index=['credit_card'],columns='weekend',values='transaction_dollar_amount',aggfunc=[np.sum ,np.count_nonzero]).reset_index()"
   ]
  },
  {
   "cell_type": "code",
   "execution_count": 44,
   "metadata": {
    "collapsed": false
   },
   "outputs": [
    {
     "data": {
      "text/html": [
       "<div>\n",
       "<table border=\"1\" class=\"dataframe\">\n",
       "  <thead>\n",
       "    <tr>\n",
       "      <th></th>\n",
       "      <th>credit_card</th>\n",
       "      <th colspan=\"2\" halign=\"left\">sum</th>\n",
       "      <th colspan=\"2\" halign=\"left\">count_nonzero</th>\n",
       "    </tr>\n",
       "    <tr>\n",
       "      <th>weekend</th>\n",
       "      <th></th>\n",
       "      <th>0</th>\n",
       "      <th>1</th>\n",
       "      <th>0</th>\n",
       "      <th>1</th>\n",
       "    </tr>\n",
       "  </thead>\n",
       "  <tbody>\n",
       "    <tr>\n",
       "      <th>0</th>\n",
       "      <td>1003715054175576</td>\n",
       "      <td>21193.26</td>\n",
       "      <td>7646.58</td>\n",
       "      <td>192.0</td>\n",
       "      <td>69.0</td>\n",
       "    </tr>\n",
       "    <tr>\n",
       "      <th>1</th>\n",
       "      <td>1013870087888817</td>\n",
       "      <td>26245.28</td>\n",
       "      <td>10569.60</td>\n",
       "      <td>249.0</td>\n",
       "      <td>92.0</td>\n",
       "    </tr>\n",
       "    <tr>\n",
       "      <th>2</th>\n",
       "      <td>1023820165155391</td>\n",
       "      <td>45127.95</td>\n",
       "      <td>15924.61</td>\n",
       "      <td>391.0</td>\n",
       "      <td>134.0</td>\n",
       "    </tr>\n",
       "    <tr>\n",
       "      <th>3</th>\n",
       "      <td>1073931538936472</td>\n",
       "      <td>4772.38</td>\n",
       "      <td>2633.89</td>\n",
       "      <td>34.0</td>\n",
       "      <td>13.0</td>\n",
       "    </tr>\n",
       "    <tr>\n",
       "      <th>4</th>\n",
       "      <td>1077622576192810</td>\n",
       "      <td>1025.18</td>\n",
       "      <td>765.55</td>\n",
       "      <td>7.0</td>\n",
       "      <td>6.0</td>\n",
       "    </tr>\n",
       "  </tbody>\n",
       "</table>\n",
       "</div>"
      ],
      "text/plain": [
       "              credit_card       sum           count_nonzero       \n",
       "weekend                           0         1             0      1\n",
       "0        1003715054175576  21193.26   7646.58         192.0   69.0\n",
       "1        1013870087888817  26245.28  10569.60         249.0   92.0\n",
       "2        1023820165155391  45127.95  15924.61         391.0  134.0\n",
       "3        1073931538936472   4772.38   2633.89          34.0   13.0\n",
       "4        1077622576192810   1025.18    765.55           7.0    6.0"
      ]
     },
     "execution_count": 44,
     "metadata": {},
     "output_type": "execute_result"
    }
   ],
   "source": [
    "df.head()\n"
   ]
  },
  {
   "cell_type": "code",
   "execution_count": 45,
   "metadata": {
    "collapsed": false
   },
   "outputs": [],
   "source": [
    "df.columns=['credit_card','Weekend_purchase','Non_weekend_purchase','Weekend_count','Non_Weekend_count']"
   ]
  },
  {
   "cell_type": "code",
   "execution_count": 46,
   "metadata": {
    "collapsed": true
   },
   "outputs": [],
   "source": [
    "from scipy import stats"
   ]
  },
  {
   "cell_type": "code",
   "execution_count": 47,
   "metadata": {
    "collapsed": true
   },
   "outputs": [],
   "source": [
    "trans_most_freq=pd.DataFrame({'Most_frequent': trans_union.groupby(['credit_card'])['Day'].agg(lambda x: stats.mode(x)[0][0])}).reset_index()"
   ]
  },
  {
   "cell_type": "code",
   "execution_count": 48,
   "metadata": {
    "collapsed": false
   },
   "outputs": [],
   "source": [
    "df  = pd.merge(df,trans_amount,on='credit_card')\n",
    "df  = pd.merge(df,trans_distance,on='credit_card')\n",
    "df = pd.merge(df,trans_most_freq,on='credit_card')\n",
    "df=pd.merge(df,credit_card,on='credit_card')\n"
   ]
  },
  {
   "cell_type": "code",
   "execution_count": 49,
   "metadata": {
    "collapsed": false
   },
   "outputs": [],
   "source": [
    "df = df.drop(['zipcode','state'],axis=1)"
   ]
  },
  {
   "cell_type": "code",
   "execution_count": 50,
   "metadata": {
    "collapsed": false
   },
   "outputs": [],
   "source": [
    "df=df.fillna(0)"
   ]
  },
  {
   "cell_type": "code",
   "execution_count": 51,
   "metadata": {
    "collapsed": false
   },
   "outputs": [],
   "source": [
    "df['city']=df['city'].astype('category')\n",
    "df['city']=df['city'].cat.codes"
   ]
  },
  {
   "cell_type": "code",
   "execution_count": 52,
   "metadata": {
    "collapsed": false
   },
   "outputs": [
    {
     "data": {
      "text/html": [
       "<div>\n",
       "<table border=\"1\" class=\"dataframe\">\n",
       "  <thead>\n",
       "    <tr style=\"text-align: right;\">\n",
       "      <th></th>\n",
       "      <th>credit_card</th>\n",
       "      <th>Weekend_purchase</th>\n",
       "      <th>Non_weekend_purchase</th>\n",
       "      <th>Weekend_count</th>\n",
       "      <th>Non_Weekend_count</th>\n",
       "      <th>90Percentile_amount</th>\n",
       "      <th>Mean_ammount</th>\n",
       "      <th>90Percentile_distance</th>\n",
       "      <th>Mean_distance</th>\n",
       "      <th>Most_frequent</th>\n",
       "      <th>city</th>\n",
       "      <th>credit_card_limit</th>\n",
       "    </tr>\n",
       "  </thead>\n",
       "  <tbody>\n",
       "    <tr>\n",
       "      <th>0</th>\n",
       "      <td>1003715054175576</td>\n",
       "      <td>21193.26</td>\n",
       "      <td>7646.58</td>\n",
       "      <td>192.0</td>\n",
       "      <td>69.0</td>\n",
       "      <td>158.520</td>\n",
       "      <td>110.497471</td>\n",
       "      <td>8.790</td>\n",
       "      <td>254.174100</td>\n",
       "      <td>5</td>\n",
       "      <td>45</td>\n",
       "      <td>20000</td>\n",
       "    </tr>\n",
       "    <tr>\n",
       "      <th>1</th>\n",
       "      <td>1013870087888817</td>\n",
       "      <td>26245.28</td>\n",
       "      <td>10569.60</td>\n",
       "      <td>249.0</td>\n",
       "      <td>92.0</td>\n",
       "      <td>165.250</td>\n",
       "      <td>107.961525</td>\n",
       "      <td>8.700</td>\n",
       "      <td>139.557449</td>\n",
       "      <td>5</td>\n",
       "      <td>109</td>\n",
       "      <td>15000</td>\n",
       "    </tr>\n",
       "    <tr>\n",
       "      <th>2</th>\n",
       "      <td>1023820165155391</td>\n",
       "      <td>45127.95</td>\n",
       "      <td>15924.61</td>\n",
       "      <td>391.0</td>\n",
       "      <td>134.0</td>\n",
       "      <td>158.812</td>\n",
       "      <td>116.290590</td>\n",
       "      <td>8.746</td>\n",
       "      <td>48.148229</td>\n",
       "      <td>5</td>\n",
       "      <td>17</td>\n",
       "      <td>28000</td>\n",
       "    </tr>\n",
       "    <tr>\n",
       "      <th>3</th>\n",
       "      <td>1073931538936472</td>\n",
       "      <td>4772.38</td>\n",
       "      <td>2633.89</td>\n",
       "      <td>34.0</td>\n",
       "      <td>13.0</td>\n",
       "      <td>216.650</td>\n",
       "      <td>157.580213</td>\n",
       "      <td>8.644</td>\n",
       "      <td>164.533617</td>\n",
       "      <td>5</td>\n",
       "      <td>25</td>\n",
       "      <td>10000</td>\n",
       "    </tr>\n",
       "    <tr>\n",
       "      <th>4</th>\n",
       "      <td>1077622576192810</td>\n",
       "      <td>1025.18</td>\n",
       "      <td>765.55</td>\n",
       "      <td>7.0</td>\n",
       "      <td>6.0</td>\n",
       "      <td>175.080</td>\n",
       "      <td>137.748462</td>\n",
       "      <td>8.644</td>\n",
       "      <td>6.341538</td>\n",
       "      <td>0</td>\n",
       "      <td>45</td>\n",
       "      <td>10000</td>\n",
       "    </tr>\n",
       "  </tbody>\n",
       "</table>\n",
       "</div>"
      ],
      "text/plain": [
       "        credit_card  Weekend_purchase  Non_weekend_purchase  Weekend_count  \\\n",
       "0  1003715054175576          21193.26               7646.58          192.0   \n",
       "1  1013870087888817          26245.28              10569.60          249.0   \n",
       "2  1023820165155391          45127.95              15924.61          391.0   \n",
       "3  1073931538936472           4772.38               2633.89           34.0   \n",
       "4  1077622576192810           1025.18                765.55            7.0   \n",
       "\n",
       "   Non_Weekend_count  90Percentile_amount  Mean_ammount  \\\n",
       "0               69.0              158.520    110.497471   \n",
       "1               92.0              165.250    107.961525   \n",
       "2              134.0              158.812    116.290590   \n",
       "3               13.0              216.650    157.580213   \n",
       "4                6.0              175.080    137.748462   \n",
       "\n",
       "   90Percentile_distance  Mean_distance  Most_frequent  city  \\\n",
       "0                  8.790     254.174100              5    45   \n",
       "1                  8.700     139.557449              5   109   \n",
       "2                  8.746      48.148229              5    17   \n",
       "3                  8.644     164.533617              5    25   \n",
       "4                  8.644       6.341538              0    45   \n",
       "\n",
       "   credit_card_limit  \n",
       "0              20000  \n",
       "1              15000  \n",
       "2              28000  \n",
       "3              10000  \n",
       "4              10000  "
      ]
     },
     "execution_count": 52,
     "metadata": {},
     "output_type": "execute_result"
    }
   ],
   "source": [
    "df.head()"
   ]
  },
  {
   "cell_type": "code",
   "execution_count": 53,
   "metadata": {
    "collapsed": false
   },
   "outputs": [],
   "source": [
    "from sklearn.cluster import KMeans\n",
    "from sklearn.decomposition import PCA\n",
    "from ggplot import *"
   ]
  },
  {
   "cell_type": "code",
   "execution_count": 54,
   "metadata": {
    "collapsed": false
   },
   "outputs": [
    {
     "name": "stdout",
     "output_type": "stream",
     "text": [
      "Index([u'Weekend_purchase', u'Non_weekend_purchase', u'Weekend_count',\n",
      "       u'Non_Weekend_count', u'90Percentile_amount', u'Mean_ammount',\n",
      "       u'90Percentile_distance', u'Mean_distance', u'Most_frequent', u'city'],\n",
      "      dtype='object')\n"
     ]
    }
   ],
   "source": [
    "feature_col= df.columns[1:-1]\n",
    "print (feature_col)"
   ]
  },
  {
   "cell_type": "code",
   "execution_count": 55,
   "metadata": {
    "collapsed": false,
    "scrolled": true
   },
   "outputs": [
    {
     "name": "stdout",
     "output_type": "stream",
     "text": [
      "Automatically created module for IPython interactive environment\n",
      "('For n_clusters =', 2, 'The average silhouette_score is :', 0.60270664371077154)\n",
      "('For n_clusters =', 3, 'The average silhouette_score is :', 0.55901659616512311)\n",
      "('For n_clusters =', 4, 'The average silhouette_score is :', 0.54402846716125575)\n",
      "('For n_clusters =', 5, 'The average silhouette_score is :', 0.51895972731389661)\n",
      "('For n_clusters =', 6, 'The average silhouette_score is :', 0.491814444514448)\n",
      "('For n_clusters =', 7, 'The average silhouette_score is :', 0.49116867305039436)\n",
      "('For n_clusters =', 8, 'The average silhouette_score is :', 0.48867710457215086)\n",
      "('For n_clusters =', 9, 'The average silhouette_score is :', 0.48320104764792809)\n",
      "('For n_clusters =', 10, 'The average silhouette_score is :', 0.46580495821765622)\n"
     ]
    }
   ],
   "source": [
    "from sklearn.datasets import make_blobs\n",
    "from sklearn.cluster import KMeans\n",
    "from sklearn.metrics import silhouette_samples, silhouette_score\n",
    "\n",
    "import matplotlib.pyplot as plt\n",
    "import matplotlib.cm as cm\n",
    "import numpy as np\n",
    "\n",
    "print(__doc__)\n",
    "\n",
    "X=df[feature_col]\n",
    "\n",
    "range_n_clusters = [2, 3, 4, 5, 6,7,8,9,10]\n",
    "\n",
    "lst=defaultdict(float)\n",
    "\n",
    "for n_clusters in range_n_clusters:\n",
    "    clusterer = KMeans(n_clusters=n_clusters, random_state=10)\n",
    "    cluster_labels = clusterer.fit_predict(X)\n",
    "\n",
    "    # The silhouette_score gives the average value for all the samples.\n",
    "    # This gives a perspective into the density and separation of the formed\n",
    "    # clusters\n",
    "    silhouette_avg = silhouette_score(X, cluster_labels)\n",
    "    print (\"For n_clusters =\", n_clusters,\n",
    "          \"The average silhouette_score is :\", silhouette_avg)\n",
    "    \n",
    "    lst[n_clusters]=silhouette_avg\n",
    "\n",
    "    # Compute the silhouette scores for each sample\n",
    "    sample_silhouette_values = silhouette_samples(X, cluster_labels)\n",
    "\n"
   ]
  },
  {
   "cell_type": "markdown",
   "metadata": {},
   "source": [
    "### Scree plot (Elbow plot can be used to identify the no of optimized cluster "
   ]
  },
  {
   "cell_type": "code",
   "execution_count": 56,
   "metadata": {
    "collapsed": false
   },
   "outputs": [
    {
     "name": "stdout",
     "output_type": "stream",
     "text": [
      "[<matplotlib.lines.Line2D object at 0x00000000206B2198>]\n"
     ]
    },
    {
     "data": {
      "image/png": "[encoded data removed]",
      "text/plain": [
       "<matplotlib.figure.Figure at 0x207cbef0>"
      ]
     },
     "metadata": {},
     "output_type": "display_data"
    }
   ],
   "source": [
    "print (plt.plot(lst.keys(),lst.values()))"
   ]
  },
  {
   "cell_type": "code",
   "execution_count": 57,
   "metadata": {
    "collapsed": false
   },
   "outputs": [
    {
     "data": {
      "text/plain": [
       "1    309\n",
       "4    258\n",
       "0    173\n",
       "5    128\n",
       "3     52\n",
       "2     21\n",
       "Name: cluster, dtype: int64"
      ]
     },
     "execution_count": 57,
     "metadata": {},
     "output_type": "execute_result"
    }
   ],
   "source": [
    "cluster = KMeans(n_clusters=6)\n",
    "\n",
    "df['cluster'] = cluster.fit_predict(df[df.columns[1:]])\n",
    "df.cluster.value_counts()"
   ]
  },
  {
   "cell_type": "code",
   "execution_count": 58,
   "metadata": {
    "collapsed": false
   },
   "outputs": [
    {
     "data": {
      "text/html": [
       "<div>\n",
       "<table border=\"1\" class=\"dataframe\">\n",
       "  <thead>\n",
       "    <tr style=\"text-align: right;\">\n",
       "      <th></th>\n",
       "      <th>credit_card</th>\n",
       "      <th>cluster</th>\n",
       "      <th>x</th>\n",
       "      <th>y</th>\n",
       "    </tr>\n",
       "  </thead>\n",
       "  <tbody>\n",
       "    <tr>\n",
       "      <th>0</th>\n",
       "      <td>1003715054175576</td>\n",
       "      <td>0</td>\n",
       "      <td>-2574.537503</td>\n",
       "      <td>-498.331806</td>\n",
       "    </tr>\n",
       "    <tr>\n",
       "      <th>1</th>\n",
       "      <td>1013870087888817</td>\n",
       "      <td>0</td>\n",
       "      <td>-8343.700431</td>\n",
       "      <td>388.428825</td>\n",
       "    </tr>\n",
       "    <tr>\n",
       "      <th>2</th>\n",
       "      <td>1023820165155391</td>\n",
       "      <td>3</td>\n",
       "      <td>-27881.851084</td>\n",
       "      <td>-1485.658037</td>\n",
       "    </tr>\n",
       "    <tr>\n",
       "      <th>3</th>\n",
       "      <td>1073931538936472</td>\n",
       "      <td>1</td>\n",
       "      <td>14545.798496</td>\n",
       "      <td>800.282931</td>\n",
       "    </tr>\n",
       "    <tr>\n",
       "      <th>4</th>\n",
       "      <td>1077622576192810</td>\n",
       "      <td>1</td>\n",
       "      <td>18715.984877</td>\n",
       "      <td>421.278426</td>\n",
       "    </tr>\n",
       "  </tbody>\n",
       "</table>\n",
       "</div>"
      ],
      "text/plain": [
       "        credit_card  cluster             x            y\n",
       "0  1003715054175576        0  -2574.537503  -498.331806\n",
       "1  1013870087888817        0  -8343.700431   388.428825\n",
       "2  1023820165155391        3 -27881.851084 -1485.658037\n",
       "3  1073931538936472        1  14545.798496   800.282931\n",
       "4  1077622576192810        1  18715.984877   421.278426"
      ]
     },
     "execution_count": 58,
     "metadata": {},
     "output_type": "execute_result"
    }
   ],
   "source": [
    "pca = PCA(n_components=2)\n",
    "df['x'] = pca.fit_transform(df[feature_col])[:,0]\n",
    "df['y'] = pca.fit_transform(df[feature_col])[:,1]\n",
    "#df = df.reset_index()\n",
    "\n",
    "customer_clusters = df[['credit_card', 'cluster', 'x', 'y']]\n",
    "customer_clusters.head()"
   ]
  },
  {
   "cell_type": "code",
   "execution_count": 59,
   "metadata": {
    "collapsed": false,
    "scrolled": false
   },
   "outputs": [
    {
     "data": {
      "image/png": "[encoded data removed]",
      "text/plain": [
       "<matplotlib.figure.Figure at 0x206dab70>"
      ]
     },
     "metadata": {},
     "output_type": "display_data"
    },
    {
     "name": "stdout",
     "output_type": "stream",
     "text": [
      "<ggplot: (19850598)>\n"
     ]
    }
   ],
   "source": [
    "print (ggplot(customer_clusters, aes(x='x', y='y', color='cluster')) + \\\n",
    "    geom_point(size=75) + \\\n",
    "    ggtitle(\"Customers Grouped by Cluster\"))"
   ]
  },
  {
   "cell_type": "code",
   "execution_count": 60,
   "metadata": {
    "collapsed": false
   },
   "outputs": [],
   "source": [
    "final_results = pd.merge(df,credit_card[['city','credit_card']],on='credit_card')"
   ]
  },
  {
   "cell_type": "markdown",
   "metadata": {},
   "source": [
    "## Clustering on the individual transaction "
   ]
  },
  {
   "cell_type": "code",
   "execution_count": 61,
   "metadata": {
    "collapsed": true
   },
   "outputs": [],
   "source": [
    "def function (df,n_clusters):\n",
    "    \n",
    "    if len(df) > 2:   \n",
    "        cluster = KMeans(n_clusters=n_clusters)\n",
    "        df['cluster'] = cluster.fit_predict(df[df.columns[1:]])\n",
    "        #print df.cluster.value_counts()\n",
    "        feature_col= df.columns[1:-1]\n",
    "\n",
    "        a = dict(df.cluster.value_counts())\n",
    "        items =a.items()\n",
    "        items.sort(key=lambda item: (item[1], item[0]))\n",
    "        sorted_keys = [ item[0] for item in items ][0:n_clusters-1]\n",
    "\n",
    "\n",
    "        pca = PCA(n_components=2)\n",
    "        df['x'] = pca.fit_transform(df[feature_col])[:,0]\n",
    "        df['y'] = pca.fit_transform(df[feature_col])[:,1]\n",
    "\n",
    "        customer_clusters = df[['credit_card', 'cluster', 'x', 'y']]\n",
    "        customer_clusters.head()\n",
    "    #     print \\\n",
    "    #         ggplot(customer_clusters, aes(x='x', y='y', color='cluster'))\\\n",
    "    #         +geom_point(size=75) + ggtitle(\"Customers Grouped by Cluster\") \n",
    "\n",
    "        final_results = pd.merge(df,credit_card[['city','credit_card']],on='credit_card')\n",
    "        final_results.columns\n",
    "        first = True\n",
    "        for cluster in sorted_keys:\n",
    "            if first:\n",
    "                final_df = final_results [(final_results['cluster']==cluster)]\n",
    "                first = False\n",
    "            else:\n",
    "                final_df = final_df.union(final_results[(final_results['cluster']==cluster)])\n",
    "                \n",
    "        return final_df\n",
    "\n",
    "    else:\n",
    "        \n",
    "        return None"
   ]
  },
  {
   "cell_type": "code",
   "execution_count": 62,
   "metadata": {
    "collapsed": false
   },
   "outputs": [
    {
     "name": "stderr",
     "output_type": "stream",
     "text": [
      "C:\\Users\\vadivel.datchi\\AppData\\Local\\Continuum\\Anaconda2\\lib\\site-packages\\ipykernel\\__main__.py:5: SettingWithCopyWarning: \n",
      "A value is trying to be set on a copy of a slice from a DataFrame.\n",
      "Try using .loc[row_indexer,col_indexer] = value instead\n",
      "\n",
      "See the caveats in the documentation: http://pandas.pydata.org/pandas-docs/stable/indexing.html#indexing-view-versus-copy\n",
      "C:\\Users\\vadivel.datchi\\AppData\\Local\\Continuum\\Anaconda2\\lib\\site-packages\\ipykernel\\__main__.py:16: SettingWithCopyWarning: \n",
      "A value is trying to be set on a copy of a slice from a DataFrame.\n",
      "Try using .loc[row_indexer,col_indexer] = value instead\n",
      "\n",
      "See the caveats in the documentation: http://pandas.pydata.org/pandas-docs/stable/indexing.html#indexing-view-versus-copy\n",
      "C:\\Users\\vadivel.datchi\\AppData\\Local\\Continuum\\Anaconda2\\lib\\site-packages\\ipykernel\\__main__.py:17: SettingWithCopyWarning: \n",
      "A value is trying to be set on a copy of a slice from a DataFrame.\n",
      "Try using .loc[row_indexer,col_indexer] = value instead\n",
      "\n",
      "See the caveats in the documentation: http://pandas.pydata.org/pandas-docs/stable/indexing.html#indexing-view-versus-copy\n"
     ]
    }
   ],
   "source": [
    "first = True\n",
    "for card in credit_card['credit_card']:\n",
    "#    print card\n",
    "    cluster=2\n",
    "    if first:\n",
    "        df2 = function(final_df[final_df['credit_card']==card],2) \n",
    "                                ## 2 cluster since one for normal activities and one for any abnormal activities\n",
    "        first=False\n",
    "    else:\n",
    "        \n",
    "        df2 = df2.append(function(final_df[final_df['credit_card']==card],2)) "
   ]
  },
  {
   "cell_type": "code",
   "execution_count": 63,
   "metadata": {
    "collapsed": true
   },
   "outputs": [],
   "source": [
    "final_results2 = df2.groupby('credit_card')['transaction_dollar_amount']\n",
    "\n",
    "final_results = pd.DataFrame({'count':final_results2.count(),'trans_amount':final_results2.sum()}).reset_index()\n"
   ]
  },
  {
   "cell_type": "code",
   "execution_count": 64,
   "metadata": {
    "collapsed": false
   },
   "outputs": [
    {
     "data": {
      "text/plain": [
       "936"
      ]
     },
     "execution_count": 64,
     "metadata": {},
     "output_type": "execute_result"
    }
   ],
   "source": [
    "len(final_results)"
   ]
  },
  {
   "cell_type": "code",
   "execution_count": 65,
   "metadata": {
    "collapsed": false
   },
   "outputs": [],
   "source": [
    "sorted_df = final_results.sort_values(['trans_amount','count'],ascending=False).set_index('credit_card')"
   ]
  },
  {
   "cell_type": "code",
   "execution_count": 66,
   "metadata": {
    "collapsed": false,
    "scrolled": true
   },
   "outputs": [
    {
     "name": "stdout",
     "output_type": "stream",
     "text": [
      "Axes(0.125,0.125;0.775x0.775)\n"
     ]
    },
    {
     "data": {
      "image/png": "[encoded data removed]",
      "text/plain": [
       "<matplotlib.figure.Figure at 0x11a540b8>"
      ]
     },
     "metadata": {},
     "output_type": "display_data"
    }
   ],
   "source": [
    "print (sorted_df['trans_amount'][0:10].plot.bar(figsize=[20,10],fontsize=14))"
   ]
  },
  {
   "cell_type": "code",
   "execution_count": null,
   "metadata": {
    "collapsed": true
   },
   "outputs": [],
   "source": []
  }
 ],
 "metadata": {
  "anaconda-cloud": {},
  "kernelspec": {
   "display_name": "Python [Root]",
   "language": "python",
   "name": "Python [Root]"
  },
  "language_info": {
   "codemirror_mode": {
    "name": "ipython",
    "version": 2
   },
   "file_extension": ".py",
   "mimetype": "text/x-python",
   "name": "python",
   "nbconvert_exporter": "python",
   "pygments_lexer": "ipython2",
   "version": "2.7.12"
  }
 },
 "nbformat": 4,
 "nbformat_minor": 0
}
